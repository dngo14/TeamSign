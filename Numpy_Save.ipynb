{
 "cells": [
  {
   "cell_type": "code",
   "execution_count": 1,
   "metadata": {},
   "outputs": [],
   "source": [
    "import numpy as np\n",
    "import pandas as pd\n",
    "import matplotlib.pyplot as plt\n",
    "from PIL import Image\n",
    "import csv\n",
    "import cv2\n",
    "import os\n",
    "from numpy import genfromtxt\n",
    "import requests\n",
    "import re\n",
    "import tensorflow as tf\n",
    "from tensorflow import keras\n",
    "from keras import datasets, layers, models\n",
    "import matplotlib.pyplot as plt"
   ]
  },
  {
   "cell_type": "markdown",
   "metadata": {},
   "source": []
  },
  {
   "cell_type": "code",
   "execution_count": 4,
   "metadata": {},
   "outputs": [],
   "source": [
    "def CSV_To_Dataframe(letter, start, end, step):\n",
    "    path = \"./ASL_CSV/train/\"\n",
    "    data = []\n",
    "    for num in range(start, end, step):\n",
    "        df = pd.read_csv(path+letter+'/'+letter+str(num)+'.csv',sep=',',header= None)\n",
    "        array = df.to_numpy()\n",
    "        result = array.flatten()\n",
    "        \n",
    "        arr = []\n",
    "        for x in result:\n",
    "            replaced = re.sub(\"[^0-9 ]+\", \"\", x)\n",
    "            replaced = re.sub(' +', ' ', replaced).strip()\n",
    "            replaced = replaced.split(\" \")\n",
    "            replaced = [(eval(i)/255) for i in replaced]\n",
    "            arr.append(replaced)\n",
    "        \n",
    "        data.append(arr)\n",
    "    np_data = np.array(data)\n",
    "    return np_data"
   ]
  },
  {
   "cell_type": "code",
   "execution_count": 5,
   "metadata": {},
   "outputs": [],
   "source": [
    "letter_to_num = {\n",
    "    'a' : 1,\n",
    "    'b' : 2,\n",
    "    'c' : 3,\n",
    "    'd' : 4,\n",
    "    'e' : 5,\n",
    "    'f' : 6,\n",
    "    'g' : 7,\n",
    "    'h' : 8,\n",
    "    'i' : 9,\n",
    "    'j' : 10,\n",
    "    'k' : 11,\n",
    "    'l' : 12,\n",
    "    'm' : 13,\n",
    "    'n' : 14,\n",
    "    'o' : 15,\n",
    "    'p' : 16,\n",
    "    'q' : 17,\n",
    "    'r' : 18,\n",
    "    's' : 19,\n",
    "    't' : 20,\n",
    "    'u' : 21,\n",
    "    'v' : 22,\n",
    "    'w' : 23,\n",
    "    'x' : 24,\n",
    "    'y' : 25,\n",
    "    'z' : 26,\n",
    "}"
   ]
  },
  {
   "cell_type": "code",
   "execution_count": 15,
   "metadata": {},
   "outputs": [],
   "source": [
    "def create_data_zigzag(letters, start, end, step):\n",
    "    data_1 = np.concatenate([CSV_To_Dataframe(x, start, end, step) for x in letters])\n",
    "    data_2 = np.concatenate([CSV_To_Dataframe(x, start+1, end, step) for x in letters])\n",
    "    data_3 = np.concatenate([CSV_To_Dataframe(x, start+2, end, step) for x in letters])\n",
    "    data_train = np.concatenate([data_1, data_3])\n",
    "    data_test = data_2\n",
    "\n",
    "    test_labels = []\n",
    "    train_labels = []\n",
    "\n",
    "    for i in range(1,27):\n",
    "        for j in range(200):\n",
    "            train_labels.append(i)\n",
    "    train_labels = np.array(train_labels)\n",
    "\n",
    "\n",
    "    for i in range(1,27):\n",
    "        for j in range(100):\n",
    "            test_labels.append(i)\n",
    "    test_labels = np.array(test_labels)\n",
    "\n",
    "    return data_train, data_test, train_labels, test_labels\n",
    "\n",
    "master_df, test_df, master_labels, test_labels = create_data_zigzag(\"abcdefghijklmnopqrstuvwxyz\", 1040, 1050, 3) \n"
   ]
  },
  {
   "cell_type": "code",
   "execution_count": 9,
   "metadata": {},
   "outputs": [],
   "source": [
    "def create_data(letters, start, end):\n",
    "    data = np.concatenate([CSV_To_Dataframe(x, start, end) for x in letters])\n",
    "    labels = []\n",
    "    for letter in letters:\n",
    "        labels = labels + ([[letter_to_num[letter]]]*(end-start))\n",
    "    labels = np.array(labels)\n",
    "    return data, labels\n",
    "\n",
    "master_df, master_labels = create_data(\"abcdefghijklmnopqrstuvwxyz\", 1, 11) \n",
    "test_df, test_labels = create_data(\"abcdefghijklmnopqrstuvwxyz\", 501, 511)"
   ]
  },
  {
   "cell_type": "code",
   "execution_count": 6,
   "metadata": {},
   "outputs": [
    {
     "name": "stdout",
     "output_type": "stream",
     "text": [
      "(5200, 200, 200)\n",
      "(2600, 200, 200)\n",
      "(2600,)\n",
      "(5200,)\n",
      "[ 1  1  1 ... 26 26 26]\n"
     ]
    }
   ],
   "source": [
    "print(master_df.shape)\n",
    "print(test_df.shape)\n",
    "\"\"\" master_labels = []\n",
    "test_labels = []\n",
    "for i in range(1,27):\n",
    "    for j in range(100):\n",
    "        test_labels.append(i) \"\"\"\n",
    "test_labels = np.array(test_labels)\n",
    "\n",
    "print(test_labels.shape)\n",
    "\"\"\" for i in range(1,27):\n",
    "    for j in range(200):\n",
    "        master_labels.append(i)\n",
    "master_labels = np.array(master_labels) \"\"\"\n",
    "\n",
    "print(master_labels.shape)\n",
    "print(test_labels)\n"
   ]
  },
  {
   "cell_type": "code",
   "execution_count": null,
   "metadata": {},
   "outputs": [],
   "source": []
  },
  {
   "cell_type": "code",
   "execution_count": 7,
   "metadata": {},
   "outputs": [],
   "source": [
    "\n",
    "np.save(\"master_numpy_601_901\", master_df)\n",
    "np.save(\"test_numpy_601_901\", test_df)\n",
    "np.save(\"master_labels_numpy_601_901\", master_labels)\n",
    "np.save(\"test_labels_numpy_601_901\", test_labels)\n"
   ]
  },
  {
   "cell_type": "code",
   "execution_count": 8,
   "metadata": {},
   "outputs": [],
   "source": [
    "master = np.load(\"master_numpy_601_901.npy\", allow_pickle = True)\n",
    "test = np.load(\"test_numpy_601_901.npy\", allow_pickle = True)\n",
    "master_labels = np.load(\"master_labels_numpy_601_901.npy\", allow_pickle = True)\n",
    "test_labels = np.load(\"test_labels_numpy_601_901.npy\", allow_pickle = True)\n"
   ]
  },
  {
   "cell_type": "code",
   "execution_count": 3,
   "metadata": {},
   "outputs": [],
   "source": [
    "master1 = np.load(\"master_numpy_1_300.npy\", allow_pickle = True)\n",
    "test1 = np.load(\"test_numpy_1_300.npy\", allow_pickle = True)\n",
    "master_labels1 = np.load(\"master_labels_numpy_1_300.npy\", allow_pickle = True)\n",
    "test_labels1 = np.load(\"test_labels_numpy_1_300.npy\", allow_pickle = True)\n",
    "\n",
    "master2 = np.load(\"master_numpy_301_601.npy\", allow_pickle = True)\n",
    "test2 = np.load(\"test_numpy_301_601.npy\", allow_pickle = True)\n",
    "master_labels2 = np.load(\"master_labels_numpy_301_601.npy\", allow_pickle = True)\n",
    "test_labels2 = np.load(\"test_labels_numpy_301_601.npy\", allow_pickle = True)\n",
    "\n",
    "master = np.concatenate([master1, master2])\n",
    "test = np.concatenate([test1, test2])\n",
    "master_label = np.concatenate([master_labels1, master_labels2])\n",
    "test_label = np.concatenate([test_labels1, test_labels2])"
   ]
  },
  {
   "cell_type": "code",
   "execution_count": 6,
   "metadata": {},
   "outputs": [],
   "source": [
    "np.save(\"master_numpy_1_601\", master)\n",
    "np.save(\"test_numpy_1_601\", test)\n",
    "np.save(\"master_labels_numpy_1_601\", master_label)\n",
    "np.save(\"test_labels_numpy_1_601\", test_label)"
   ]
  },
  {
   "cell_type": "code",
   "execution_count": 2,
   "metadata": {},
   "outputs": [],
   "source": [
    "master = np.load(\"master_numpy_1_601.npy\", allow_pickle = True)\n",
    "test = np.load(\"test_numpy_1_601.npy\", allow_pickle = True)\n",
    "master_labels = np.load(\"master_labels_numpy_1_601.npy\", allow_pickle = True)\n",
    "test_labels = np.load(\"test_labels_numpy_1_601.npy\", allow_pickle = True)"
   ]
  },
  {
   "cell_type": "code",
   "execution_count": 19,
   "metadata": {},
   "outputs": [
    {
     "name": "stdout",
     "output_type": "stream",
     "text": [
      "(5200,)\n"
     ]
    }
   ],
   "source": [
    "print(test_label.shape)"
   ]
  },
  {
   "cell_type": "code",
   "execution_count": 3,
   "metadata": {},
   "outputs": [
    {
     "name": "stdout",
     "output_type": "stream",
     "text": [
      "(10400, 200, 200)\n",
      "(10400,)\n",
      "(5200, 200, 200)\n",
      "(5200,)\n"
     ]
    }
   ],
   "source": [
    "print(master.shape)\n",
    "print(master_labels.shape)\n",
    "print(test.shape)\n",
    "print(test_labels.shape)"
   ]
  },
  {
   "cell_type": "code",
   "execution_count": 21,
   "metadata": {},
   "outputs": [
    {
     "name": "stdout",
     "output_type": "stream",
     "text": [
      "Model: \"sequential_2\"\n",
      "_________________________________________________________________\n",
      " Layer (type)                Output Shape              Param #   \n",
      "=================================================================\n",
      " lstm_2 (LSTM)               (None, 100)               120400    \n",
      "                                                                 \n",
      " batch_normalization_2 (Batc  (None, 100)              400       \n",
      " hNormalization)                                                 \n",
      "                                                                 \n",
      " flatten_2 (Flatten)         (None, 100)               0         \n",
      "                                                                 \n",
      " dense_6 (Dense)             (None, 124)               12524     \n",
      "                                                                 \n",
      " dense_7 (Dense)             (None, 64)                8000      \n",
      "                                                                 \n",
      " dense_8 (Dense)             (None, 27)                1755      \n",
      "                                                                 \n",
      "=================================================================\n",
      "Total params: 143,079\n",
      "Trainable params: 142,879\n",
      "Non-trainable params: 200\n",
      "_________________________________________________________________\n",
      "Epoch 1/15\n",
      "289/289 [==============================] - 87s 140ms/step - loss: 2.2645 - accuracy: 0.2145 - val_loss: 3.7703 - val_accuracy: 0.0669\n",
      "Epoch 2/15\n",
      "289/289 [==============================] - 33s 115ms/step - loss: 1.9153 - accuracy: 0.2692 - val_loss: 5.6047 - val_accuracy: 0.0365\n",
      "Epoch 3/15\n",
      "289/289 [==============================] - 34s 118ms/step - loss: 1.7249 - accuracy: 0.3056 - val_loss: 7.3778 - val_accuracy: 0.0333\n",
      "Epoch 4/15\n",
      "289/289 [==============================] - 33s 113ms/step - loss: 1.5839 - accuracy: 0.3297 - val_loss: 9.0963 - val_accuracy: 0.0408\n",
      "Epoch 5/15\n",
      "289/289 [==============================] - 33s 115ms/step - loss: 1.4418 - accuracy: 0.3427 - val_loss: 8.4842 - val_accuracy: 0.0115\n",
      "Epoch 6/15\n",
      "289/289 [==============================] - 33s 114ms/step - loss: 1.3509 - accuracy: 0.3743 - val_loss: 10.2759 - val_accuracy: 0.0617\n",
      "Epoch 7/15\n",
      "289/289 [==============================] - 34s 116ms/step - loss: 1.2812 - accuracy: 0.3801 - val_loss: 10.2063 - val_accuracy: 0.0294\n",
      "Epoch 8/15\n",
      "289/289 [==============================] - 35s 120ms/step - loss: 1.2253 - accuracy: 0.3880 - val_loss: 10.8910 - val_accuracy: 0.0379\n",
      "Epoch 9/15\n",
      "289/289 [==============================] - 33s 115ms/step - loss: 1.1614 - accuracy: 0.4069 - val_loss: 11.4554 - val_accuracy: 0.0758\n",
      "Epoch 10/15\n",
      "289/289 [==============================] - 33s 115ms/step - loss: 1.1305 - accuracy: 0.4150 - val_loss: 10.9558 - val_accuracy: 0.0488\n",
      "Epoch 11/15\n",
      "289/289 [==============================] - 34s 117ms/step - loss: 1.0901 - accuracy: 0.4124 - val_loss: 13.3235 - val_accuracy: 0.0737\n",
      "Epoch 12/15\n",
      "289/289 [==============================] - 33s 116ms/step - loss: 1.0609 - accuracy: 0.4218 - val_loss: 11.4183 - val_accuracy: 0.0340\n",
      "Epoch 13/15\n",
      "289/289 [==============================] - 34s 117ms/step - loss: 1.0318 - accuracy: 0.4293 - val_loss: 12.2639 - val_accuracy: 0.0412\n",
      "Epoch 14/15\n",
      "289/289 [==============================] - 34s 118ms/step - loss: 0.9842 - accuracy: 0.4405 - val_loss: 12.7897 - val_accuracy: 0.0604\n",
      "Epoch 15/15\n",
      "289/289 [==============================] - 34s 117ms/step - loss: 0.9929 - accuracy: 0.4342 - val_loss: 12.3415 - val_accuracy: 0.0113\n"
     ]
    }
   ],
   "source": [
    "model = keras.models.Sequential()\n",
    "model.add(keras.layers.LSTM(100, input_shape=(200,200)))\n",
    "model.add(keras.layers.BatchNormalization())\n",
    "model.add(keras.layers.Flatten())\n",
    "# model.add(keras.layers.Dense(64, activation = 'relu'))\n",
    "# model.add(keras.layers.Dense(32, activation = 'sigmoid'))\n",
    "model.add(keras.layers.Dense(124))\n",
    "model.add(keras.layers.Dense(64))\n",
    "model.add(keras.layers.Dense(27, activation = 'softmax'))\n",
    "\n",
    "\n",
    "model.compile(\n",
    "    loss=keras.losses.SparseCategoricalCrossentropy(from_logits=False),\n",
    "    optimizer=\"adam\",\n",
    "    metrics=[\"accuracy\"],\n",
    ")\n",
    "\n",
    "model.summary()\n",
    "\n",
    "history = model.fit(\n",
    "    master, master_label, validation_data=(test, test_label), batch_size=36, epochs=15\n",
    ")"
   ]
  },
  {
   "cell_type": "code",
   "execution_count": 23,
   "metadata": {},
   "outputs": [
    {
     "name": "stdout",
     "output_type": "stream",
     "text": [
      "163/163 - 6s - loss: 12.3415 - accuracy: 0.0113 - 6s/epoch - 40ms/step\n"
     ]
    },
    {
     "data": {
      "image/png": "[encoded data removed]",
      "text/plain": [
       "<Figure size 640x480 with 1 Axes>"
      ]
     },
     "metadata": {},
     "output_type": "display_data"
    }
   ],
   "source": [
    "plt.plot(history.history['accuracy'], label='accuracy')\n",
    "plt.plot(history.history['val_accuracy'], label = 'val_accuracy')\n",
    "plt.xlabel('Epoch')\n",
    "plt.ylabel('Accuracy')\n",
    "plt.ylim([0, 1])\n",
    "plt.legend(loc='lower right')\n",
    "\n",
    "test_loss, test_acc = model.evaluate(test,  test_label, verbose=2)"
   ]
  },
  {
   "cell_type": "code",
   "execution_count": 5,
   "metadata": {},
   "outputs": [
    {
     "name": "stdout",
     "output_type": "stream",
     "text": [
      "Epoch 1/7\n",
      "325/325 [==============================] - 137s 420ms/step - loss: 2.3200 - accuracy: 0.2104 - val_loss: 6.7005 - val_accuracy: 0.0385\n",
      "Epoch 2/7\n",
      "325/325 [==============================] - 135s 414ms/step - loss: 1.4164 - accuracy: 0.3714 - val_loss: 9.6500 - val_accuracy: 0.0373\n",
      "Epoch 3/7\n",
      "325/325 [==============================] - 137s 420ms/step - loss: 1.1640 - accuracy: 0.4175 - val_loss: 11.4464 - val_accuracy: 0.0204\n",
      "Epoch 4/7\n",
      "325/325 [==============================] - 137s 421ms/step - loss: 1.0100 - accuracy: 0.4553 - val_loss: 12.0492 - val_accuracy: 0.0115\n",
      "Epoch 5/7\n",
      "325/325 [==============================] - 136s 418ms/step - loss: 0.9175 - accuracy: 0.4690 - val_loss: 12.6099 - val_accuracy: 0.0315\n",
      "Epoch 6/7\n",
      "325/325 [==============================] - 135s 414ms/step - loss: 0.8549 - accuracy: 0.4797 - val_loss: 13.6697 - val_accuracy: 0.0073\n",
      "Epoch 7/7\n",
      "325/325 [==============================] - 135s 416ms/step - loss: 0.8124 - accuracy: 0.4865 - val_loss: 13.5543 - val_accuracy: 0.0438\n"
     ]
    }
   ],
   "source": [
    "model = models.Sequential()\n",
    "model.add(layers.Conv2D(32, (1, 1), activation='relu', input_shape=(200, 200, 1)))\n",
    "model.add(layers.MaxPooling2D((2, 2)))\n",
    "model.add(layers.Conv2D(64, (1, 1), activation='relu'))\n",
    "model.add(layers.MaxPooling2D((2, 2)))\n",
    "model.add(layers.Conv2D(64, (1, 1), activation='relu'))\n",
    "\n",
    "model.add(layers.Flatten())\n",
    "model.add(layers.Dense(64, activation='relu'))\n",
    "model.add(layers.Dense(27))\n",
    "\n",
    "#model.summary()\n",
    "\n",
    "model.compile(optimizer='adam',\n",
    "              loss=tf.keras.losses.SparseCategoricalCrossentropy(from_logits=True),\n",
    "              metrics=['accuracy'])\n",
    "\n",
    "history = model.fit(master, master_labels, epochs=7, \n",
    "                    validation_data=(test, test_labels))"
   ]
  },
  {
   "cell_type": "code",
   "execution_count": 6,
   "metadata": {},
   "outputs": [
    {
     "data": {
      "text/plain": [
       "<matplotlib.legend.Legend at 0x1992e8e0f40>"
      ]
     },
     "execution_count": 6,
     "metadata": {},
     "output_type": "execute_result"
    },
    {
     "data": {
      "image/png": "[encoded data removed]",
      "text/plain": [
       "<Figure size 640x480 with 1 Axes>"
      ]
     },
     "metadata": {},
     "output_type": "display_data"
    }
   ],
   "source": [
    "plt.plot(history.history['accuracy'], label='accuracy')\n",
    "plt.plot(history.history['val_accuracy'], label = 'val_accuracy')\n",
    "plt.xlabel('Epoch')\n",
    "plt.ylabel('Accuracy')\n",
    "plt.ylim([0.0, 1])\n",
    "plt.legend(loc='lower right')"
   ]
  },
  {
   "cell_type": "code",
   "execution_count": 6,
   "metadata": {},
   "outputs": [],
   "source": [
    "## Convert Image Size and save them\n",
    "\n",
    "def convert_image_size_64(letter, start, end, step):\n",
    "    path = \"./ASL_Alphabet/asl_alphabet_train/asl_alphabet_train/\"\n",
    "    new_path = \"./ASL_CSV_64/train/\"\n",
    "\n",
    "    for num in range(start, end, step):\n",
    "        image = Image.open(path+letter+'/'+letter+str(num)+'.jpg')\n",
    "        new_image = image.resize((64,64))\n",
    "        new_image.save(new_path+letter+'/'+letter+str(num)+'.jpg')\n",
    "        \n",
    "    return 0\n",
    "\n",
    "\n",
    "for letter in \"ABCDEFGHIJKLMNOPQRSTUVWXYZ\":\n",
    "    convert_image_size_64(letter, 1, 3001, 1)"
   ]
  }
 ],
 "metadata": {
  "kernelspec": {
   "display_name": "Python 3.6.8 64-bit",
   "language": "python",
   "name": "python3"
  },
  "language_info": {
   "codemirror_mode": {
    "name": "ipython",
    "version": 3
   },
   "file_extension": ".py",
   "mimetype": "text/x-python",
   "name": "python",
   "nbconvert_exporter": "python",
   "pygments_lexer": "ipython3",
   "version": "3.8.5"
  },
  "orig_nbformat": 4,
  "vscode": {
   "interpreter": {
    "hash": "ae9660db38ac8643b5abe3ade23e36bb7e77026bbf1f37e511afc8ce3b66621b"
   }
  }
 },
 "nbformat": 4,
 "nbformat_minor": 2
}
