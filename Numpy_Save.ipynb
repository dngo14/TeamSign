{
 "cells": [
  {
   "cell_type": "code",
   "execution_count": 1,
   "metadata": {},
   "outputs": [],
   "source": [
    "import numpy as np\n",
    "import pandas as pd\n",
    "import matplotlib.pyplot as plt\n",
    "from PIL import Image\n",
    "import csv\n",
    "import cv2\n",
    "import os\n",
    "from numpy import genfromtxt\n",
    "import requests\n",
    "import re\n",
    "import tensorflow as tf\n",
    "from tensorflow import keras \n",
    "from keras import datasets, layers, models\n",
    "import matplotlib.pyplot as plt"
   ]
  },
  {
   "cell_type": "code",
   "execution_count": 9,
   "metadata": {},
   "outputs": [],
   "source": [
    "def CSV_To_Dataframe(letter, start, end, step):\n",
    "    path = \"./ASL_64/train/\"\n",
    "    data = []\n",
    "    for num in range(start, end, step):\n",
    "        df = pd.read_csv(path+letter+'/'+letter+str(num)+'.csv',sep=',',header= None)\n",
    "        array = df.to_numpy()\n",
    "        result = array.flatten()\n",
    "        \n",
    "        arr = []\n",
    "        for x in result:\n",
    "            replaced = re.sub(\"[^0-9 ]+\", \"\", x)\n",
    "            replaced = re.sub(' +', ' ', replaced).strip()\n",
    "            replaced = replaced.split(\" \")\n",
    "            replaced = [(eval(i)/255) for i in replaced]\n",
    "            arr.append(replaced)\n",
    "        \n",
    "        data.append(arr)\n",
    "    np_data = np.array(data)\n",
    "    return np_data"
   ]
  },
  {
   "cell_type": "code",
   "execution_count": 2,
   "metadata": {},
   "outputs": [],
   "source": [
    "letter_to_num = {\n",
    "    'a' : 1,\n",
    "    'b' : 2,\n",
    "    'c' : 3,\n",
    "    'd' : 4,\n",
    "    'e' : 5,\n",
    "    'f' : 6,\n",
    "    'g' : 7,\n",
    "    'h' : 8,\n",
    "    'i' : 9,\n",
    "    'j' : 10,\n",
    "    'k' : 11,\n",
    "    'l' : 12,\n",
    "    'm' : 13,\n",
    "    'n' : 14,\n",
    "    'o' : 15,\n",
    "    'p' : 16,\n",
    "    'q' : 17,\n",
    "    'r' : 18,\n",
    "    's' : 19,\n",
    "    't' : 20,\n",
    "    'u' : 21,\n",
    "    'v' : 22,\n",
    "    'w' : 23,\n",
    "    'x' : 24,\n",
    "    'y' : 25,\n",
    "    'z' : 26,\n",
    "}"
   ]
  },
  {
   "cell_type": "code",
   "execution_count": 10,
   "metadata": {},
   "outputs": [
    {
     "ename": "MemoryError",
     "evalue": "Unable to allocate 916. MiB for an array with shape (3000, 200, 200) and data type float64",
     "output_type": "error",
     "traceback": [
      "\u001b[1;31m---------------------------------------------------------------------------\u001b[0m",
      "\u001b[1;31mMemoryError\u001b[0m                               Traceback (most recent call last)",
      "\u001b[1;32m<ipython-input-10-cdfbb451ed06>\u001b[0m in \u001b[0;36m<module>\u001b[1;34m\u001b[0m\n\u001b[0;32m      7\u001b[0m     \u001b[1;32mreturn\u001b[0m \u001b[0mdata\u001b[0m\u001b[1;33m,\u001b[0m \u001b[0mlabels\u001b[0m\u001b[1;33m\u001b[0m\u001b[1;33m\u001b[0m\u001b[0m\n\u001b[0;32m      8\u001b[0m \u001b[1;33m\u001b[0m\u001b[0m\n\u001b[1;32m----> 9\u001b[1;33m \u001b[0mmaster_df\u001b[0m\u001b[1;33m,\u001b[0m \u001b[0mmaster_labels\u001b[0m \u001b[1;33m=\u001b[0m \u001b[0mcreate_data\u001b[0m\u001b[1;33m(\u001b[0m\u001b[1;34m\"abcdefghijklmnopqrstuvwxyz\"\u001b[0m\u001b[1;33m,\u001b[0m \u001b[1;36m1\u001b[0m\u001b[1;33m,\u001b[0m \u001b[1;36m3001\u001b[0m\u001b[1;33m)\u001b[0m\u001b[1;33m\u001b[0m\u001b[1;33m\u001b[0m\u001b[0m\n\u001b[0m\u001b[0;32m     10\u001b[0m \u001b[1;31m#test_df, test_labels = create_data(\"abcdefghijklmnopqrstuvwxyz\", 501, 751)\u001b[0m\u001b[1;33m\u001b[0m\u001b[1;33m\u001b[0m\u001b[1;33m\u001b[0m\u001b[0m\n",
      "\u001b[1;32m<ipython-input-10-cdfbb451ed06>\u001b[0m in \u001b[0;36mcreate_data\u001b[1;34m(letters, start, end)\u001b[0m\n\u001b[0;32m      1\u001b[0m \u001b[1;32mdef\u001b[0m \u001b[0mcreate_data\u001b[0m\u001b[1;33m(\u001b[0m\u001b[0mletters\u001b[0m\u001b[1;33m,\u001b[0m \u001b[0mstart\u001b[0m\u001b[1;33m,\u001b[0m \u001b[0mend\u001b[0m\u001b[1;33m)\u001b[0m\u001b[1;33m:\u001b[0m\u001b[1;33m\u001b[0m\u001b[1;33m\u001b[0m\u001b[0m\n\u001b[1;32m----> 2\u001b[1;33m     \u001b[0mdata\u001b[0m \u001b[1;33m=\u001b[0m \u001b[0mnp\u001b[0m\u001b[1;33m.\u001b[0m\u001b[0mconcatenate\u001b[0m\u001b[1;33m(\u001b[0m\u001b[1;33m[\u001b[0m\u001b[0mCSV_To_Dataframe\u001b[0m\u001b[1;33m(\u001b[0m\u001b[0mx\u001b[0m\u001b[1;33m,\u001b[0m \u001b[0mstart\u001b[0m\u001b[1;33m,\u001b[0m \u001b[0mend\u001b[0m\u001b[1;33m)\u001b[0m \u001b[1;32mfor\u001b[0m \u001b[0mx\u001b[0m \u001b[1;32min\u001b[0m \u001b[0mletters\u001b[0m\u001b[1;33m]\u001b[0m\u001b[1;33m)\u001b[0m\u001b[1;33m\u001b[0m\u001b[1;33m\u001b[0m\u001b[0m\n\u001b[0m\u001b[0;32m      3\u001b[0m     \u001b[0mlabels\u001b[0m \u001b[1;33m=\u001b[0m \u001b[1;33m[\u001b[0m\u001b[1;33m]\u001b[0m\u001b[1;33m\u001b[0m\u001b[1;33m\u001b[0m\u001b[0m\n\u001b[0;32m      4\u001b[0m     \u001b[1;32mfor\u001b[0m \u001b[0mletter\u001b[0m \u001b[1;32min\u001b[0m \u001b[0mletters\u001b[0m\u001b[1;33m:\u001b[0m\u001b[1;33m\u001b[0m\u001b[1;33m\u001b[0m\u001b[0m\n\u001b[0;32m      5\u001b[0m         \u001b[0mlabels\u001b[0m \u001b[1;33m=\u001b[0m \u001b[0mlabels\u001b[0m \u001b[1;33m+\u001b[0m \u001b[1;33m(\u001b[0m\u001b[1;33m[\u001b[0m\u001b[1;33m[\u001b[0m\u001b[0mletter_to_num\u001b[0m\u001b[1;33m[\u001b[0m\u001b[0mletter\u001b[0m\u001b[1;33m]\u001b[0m\u001b[1;33m]\u001b[0m\u001b[1;33m]\u001b[0m\u001b[1;33m*\u001b[0m\u001b[1;33m(\u001b[0m\u001b[0mend\u001b[0m\u001b[1;33m-\u001b[0m\u001b[0mstart\u001b[0m\u001b[1;33m)\u001b[0m\u001b[1;33m)\u001b[0m\u001b[1;33m\u001b[0m\u001b[1;33m\u001b[0m\u001b[0m\n",
      "\u001b[1;32m<ipython-input-10-cdfbb451ed06>\u001b[0m in \u001b[0;36m<listcomp>\u001b[1;34m(.0)\u001b[0m\n\u001b[0;32m      1\u001b[0m \u001b[1;32mdef\u001b[0m \u001b[0mcreate_data\u001b[0m\u001b[1;33m(\u001b[0m\u001b[0mletters\u001b[0m\u001b[1;33m,\u001b[0m \u001b[0mstart\u001b[0m\u001b[1;33m,\u001b[0m \u001b[0mend\u001b[0m\u001b[1;33m)\u001b[0m\u001b[1;33m:\u001b[0m\u001b[1;33m\u001b[0m\u001b[1;33m\u001b[0m\u001b[0m\n\u001b[1;32m----> 2\u001b[1;33m     \u001b[0mdata\u001b[0m \u001b[1;33m=\u001b[0m \u001b[0mnp\u001b[0m\u001b[1;33m.\u001b[0m\u001b[0mconcatenate\u001b[0m\u001b[1;33m(\u001b[0m\u001b[1;33m[\u001b[0m\u001b[0mCSV_To_Dataframe\u001b[0m\u001b[1;33m(\u001b[0m\u001b[0mx\u001b[0m\u001b[1;33m,\u001b[0m \u001b[0mstart\u001b[0m\u001b[1;33m,\u001b[0m \u001b[0mend\u001b[0m\u001b[1;33m)\u001b[0m \u001b[1;32mfor\u001b[0m \u001b[0mx\u001b[0m \u001b[1;32min\u001b[0m \u001b[0mletters\u001b[0m\u001b[1;33m]\u001b[0m\u001b[1;33m)\u001b[0m\u001b[1;33m\u001b[0m\u001b[1;33m\u001b[0m\u001b[0m\n\u001b[0m\u001b[0;32m      3\u001b[0m     \u001b[0mlabels\u001b[0m \u001b[1;33m=\u001b[0m \u001b[1;33m[\u001b[0m\u001b[1;33m]\u001b[0m\u001b[1;33m\u001b[0m\u001b[1;33m\u001b[0m\u001b[0m\n\u001b[0;32m      4\u001b[0m     \u001b[1;32mfor\u001b[0m \u001b[0mletter\u001b[0m \u001b[1;32min\u001b[0m \u001b[0mletters\u001b[0m\u001b[1;33m:\u001b[0m\u001b[1;33m\u001b[0m\u001b[1;33m\u001b[0m\u001b[0m\n\u001b[0;32m      5\u001b[0m         \u001b[0mlabels\u001b[0m \u001b[1;33m=\u001b[0m \u001b[0mlabels\u001b[0m \u001b[1;33m+\u001b[0m \u001b[1;33m(\u001b[0m\u001b[1;33m[\u001b[0m\u001b[1;33m[\u001b[0m\u001b[0mletter_to_num\u001b[0m\u001b[1;33m[\u001b[0m\u001b[0mletter\u001b[0m\u001b[1;33m]\u001b[0m\u001b[1;33m]\u001b[0m\u001b[1;33m]\u001b[0m\u001b[1;33m*\u001b[0m\u001b[1;33m(\u001b[0m\u001b[0mend\u001b[0m\u001b[1;33m-\u001b[0m\u001b[0mstart\u001b[0m\u001b[1;33m)\u001b[0m\u001b[1;33m)\u001b[0m\u001b[1;33m\u001b[0m\u001b[1;33m\u001b[0m\u001b[0m\n",
      "\u001b[1;32m<ipython-input-2-f796815606aa>\u001b[0m in \u001b[0;36mCSV_To_Dataframe\u001b[1;34m(letter, start, end)\u001b[0m\n\u001b[0;32m     16\u001b[0m \u001b[1;33m\u001b[0m\u001b[0m\n\u001b[0;32m     17\u001b[0m         \u001b[0mdata\u001b[0m\u001b[1;33m.\u001b[0m\u001b[0mappend\u001b[0m\u001b[1;33m(\u001b[0m\u001b[0marr\u001b[0m\u001b[1;33m)\u001b[0m\u001b[1;33m\u001b[0m\u001b[1;33m\u001b[0m\u001b[0m\n\u001b[1;32m---> 18\u001b[1;33m     \u001b[0mnp_data\u001b[0m \u001b[1;33m=\u001b[0m \u001b[0mnp\u001b[0m\u001b[1;33m.\u001b[0m\u001b[0marray\u001b[0m\u001b[1;33m(\u001b[0m\u001b[0mdata\u001b[0m\u001b[1;33m)\u001b[0m\u001b[1;33m\u001b[0m\u001b[1;33m\u001b[0m\u001b[0m\n\u001b[0m\u001b[0;32m     19\u001b[0m     \u001b[1;32mreturn\u001b[0m \u001b[0mnp_data\u001b[0m\u001b[1;33m\u001b[0m\u001b[1;33m\u001b[0m\u001b[0m\n",
      "\u001b[1;31mMemoryError\u001b[0m: Unable to allocate 916. MiB for an array with shape (3000, 200, 200) and data type float64"
     ]
    }
   ],
   "source": [
    "def create_data(letters, start, end):\n",
    "    data = np.concatenate([CSV_To_Dataframe(x, start, end) for x in letters])\n",
    "    labels = []\n",
    "    for letter in letters:\n",
    "        labels = labels + ([[letter_to_num[letter]]]*(end-start))\n",
    "    labels = np.array(labels)\n",
    "    return data, labels\n",
    "\n",
    "master_df, master_labels = create_data(\"abcdefghijklmnopqrstuvwxyz\", 1, 3001) \n",
    "#test_df, test_labels = create_data(\"abcdefghijklmnopqrstuvwxyz\", 501, 751)"
   ]
  },
  {
   "cell_type": "code",
   "execution_count": 38,
   "metadata": {},
   "outputs": [
    {
     "name": "stdout",
     "output_type": "stream",
     "text": [
      "(52000, 64, 64)\n",
      "(26000, 64, 64)\n",
      "(26000,)\n",
      "(52000,)\n",
      "[ 1  1  1 ... 26 26 26]\n"
     ]
    }
   ],
   "source": [
    "print(master_df.shape)\n",
    "print(test_df.shape)\n",
    "\"\"\" master_labels = []\n",
    "test_labels = []\n",
    "for i in range(1,27):\n",
    "    for j in range(100):\n",
    "        test_labels.append(i) \"\"\"\n",
    "test_labels = np.array(test_labels)\n",
    " \n",
    "print(test_labels.shape)\n",
    "\"\"\" for i in range(1,27):\n",
    "    for j in range(200):\n",
    "        master_labels.append(i)\n",
    "master_labels = np.array(master_labels) \"\"\"\n",
    "\n",
    "print(master_labels.shape)\n",
    "print(test_labels)\n"
   ]
  },
  {
   "cell_type": "code",
   "execution_count": 35,
   "metadata": {},
   "outputs": [],
   "source": [
    "master1 = np.load(\"master_numpy_1_300.npy\", allow_pickle = True)\n",
    "test1 = np.load(\"test_numpy_1_300.npy\", allow_pickle = True)\n",
    "master_labels1 = np.load(\"master_labels_numpy_1_300.npy\", allow_pickle = True)\n",
    "test_labels1 = np.load(\"test_labels_numpy_1_300.npy\", allow_pickle = True)\n",
    "\n",
    "master2 = np.load(\"master_numpy_301_601.npy\", allow_pickle = True)\n",
    "test2 = np.load(\"test_numpy_301_601.npy\", allow_pickle = True)\n",
    "master_labels2 = np.load(\"master_labels_numpy_301_601.npy\", allow_pickle = True)\n",
    "test_labels2 = np.load(\"test_labels_numpy_301_601.npy\", allow_pickle = True)\n",
    "\n",
    "master = np.concatenate([master1, master2])\n",
    "test = np.concatenate([test1, test2])\n",
    "master_label = np.concatenate([master_labels1, master_labels2])\n",
    "test_label = np.concatenate([test_labels1, test_labels2])"
   ]
  },
  {
   "cell_type": "code",
   "execution_count": 7,
   "metadata": {},
   "outputs": [],
   "source": [
    "np.save(\"master_numpy_1_601\", master)\n",
    "np.save(\"test_numpy_1_601\", test)\n",
    "np.save(\"master_labels_numpy_1_601\", master_label)\n",
    "np.save(\"test_labels_numpy_1_601\", test_label)"
   ]
  },
  {
   "cell_type": "code",
   "execution_count": 8,
   "metadata": {},
   "outputs": [
    {
     "name": "stdout",
     "output_type": "stream",
     "text": [
      "(5200,)\n"
     ]
    }
   ],
   "source": [
    "print(test_label.shape)"
   ]
  },
  {
   "cell_type": "code",
   "execution_count": 4,
   "metadata": {},
   "outputs": [
    {
     "name": "stdout",
     "output_type": "stream",
     "text": [
      "(52000, 64, 64)\n",
      "(52000,)\n",
      "(26000, 64, 64)\n",
      "(26000,)\n"
     ]
    }
   ],
   "source": [
    "print(master.shape)\n",
    "print(master_labels.shape)\n",
    "print(test.shape)\n",
    "print(test_labels.shape)"
   ]
  },
  {
   "cell_type": "code",
   "execution_count": 6,
   "metadata": {},
   "outputs": [
    {
     "name": "stdout",
     "output_type": "stream",
     "text": [
      "Model: \"sequential\"\n",
      "_________________________________________________________________\n",
      " Layer (type)                Output Shape              Param #   \n",
      "=================================================================\n",
      "lstm (LSTM)                  (None, 100)               120400    \n",
      "_________________________________________________________________\n",
      "batch_normalization (BatchNo (None, 100)               400       \n",
      "_________________________________________________________________\n",
      "flatten (Flatten)            (None, 100)               0         \n",
      "_________________________________________________________________\n",
      "dense (Dense)                (None, 124)               12524     \n",
      "_________________________________________________________________\n",
      "dense_1 (Dense)              (None, 64)                8000      \n",
      "_________________________________________________________________\n",
      "dense_2 (Dense)              (None, 27)                1755      \n",
      "=================================================================\n",
      "Total params: 88,679\n",
      "Trainable params: 88,479\n",
      "Non-trainable params: 200\n",
      "_________________________________________________________________\n",
      "Epoch 1/15\n",
      "362/362 [==============================] - 56s 149ms/step - loss: 1.7509 - accuracy: 0.4095 - val_loss: 2.1698 - val_accuracy: 0.2100\n",
      "Epoch 2/15\n",
      "362/362 [==============================] - 47s 130ms/step - loss: 1.1463 - accuracy: 0.5874 - val_loss: 2.7343 - val_accuracy: 0.3449\n",
      "Epoch 3/15\n",
      "362/362 [==============================] - 51s 142ms/step - loss: 0.8428 - accuracy: 0.6871 - val_loss: 3.2034 - val_accuracy: 0.3189\n",
      "Epoch 4/15\n",
      "362/362 [==============================] - 58s 160ms/step - loss: 0.7132 - accuracy: 0.7352 - val_loss: 2.7789 - val_accuracy: 0.4411\n",
      "Epoch 5/15\n",
      "362/362 [==============================] - 53s 147ms/step - loss: 0.5799 - accuracy: 0.7853 - val_loss: 4.0439 - val_accuracy: 0.3415\n",
      "Epoch 6/15\n",
      "362/362 [==============================] - 54s 149ms/step - loss: 0.5138 - accuracy: 0.8089 - val_loss: 3.9008 - val_accuracy: 0.3529\n",
      "Epoch 7/15\n",
      "362/362 [==============================] - 58s 161ms/step - loss: 0.5368 - accuracy: 0.8065 - val_loss: 3.1094 - val_accuracy: 0.4491\n",
      "Epoch 8/15\n",
      "362/362 [==============================] - 57s 156ms/step - loss: 0.4348 - accuracy: 0.8445 - val_loss: 3.2813 - val_accuracy: 0.4402\n",
      "Epoch 9/15\n",
      "362/362 [==============================] - 57s 158ms/step - loss: 0.3966 - accuracy: 0.8567 - val_loss: 2.7502 - val_accuracy: 0.4588\n",
      "Epoch 10/15\n",
      "362/362 [==============================] - 50s 139ms/step - loss: 0.3170 - accuracy: 0.8868 - val_loss: 4.1379 - val_accuracy: 0.3595\n",
      "Epoch 11/15\n",
      "362/362 [==============================] - 54s 150ms/step - loss: 0.2699 - accuracy: 0.9031 - val_loss: 3.7734 - val_accuracy: 0.4211\n",
      "Epoch 12/15\n",
      "362/362 [==============================] - 48s 132ms/step - loss: 0.2872 - accuracy: 0.8969 - val_loss: 4.0013 - val_accuracy: 0.4612\n",
      "Epoch 13/15\n",
      "362/362 [==============================] - 50s 139ms/step - loss: 0.2571 - accuracy: 0.9075 - val_loss: 3.0709 - val_accuracy: 0.4960\n",
      "Epoch 14/15\n",
      "362/362 [==============================] - 49s 135ms/step - loss: 0.2525 - accuracy: 0.9143 - val_loss: 3.6189 - val_accuracy: 0.5023\n",
      "Epoch 15/15\n",
      "362/362 [==============================] - 48s 132ms/step - loss: 0.1812 - accuracy: 0.9340 - val_loss: 3.3657 - val_accuracy: 0.5431\n"
     ]
    }
   ],
   "source": [
    "model = keras.models.Sequential()\n",
    "model.add(keras.layers.LSTM(100, input_shape=(64,64)))\n",
    "model.add(keras.layers.BatchNormalization())\n",
    "model.add(keras.layers.Flatten())\n",
    "# model.add(keras.layers.Dense(64, activation = 'relu'))\n",
    "# model.add(keras.layers.Dense(32, activation = 'sigmoid'))\n",
    "model.add(keras.layers.Dense(124))\n",
    "model.add(keras.layers.Dense(64))\n",
    "model.add(keras.layers.Dense(27, activation = 'softmax'))\n",
    "\n",
    "\n",
    "model.compile(\n",
    "    loss=keras.losses.SparseCategoricalCrossentropy(from_logits=False),\n",
    "    optimizer=\"adam\",\n",
    "    metrics=[\"accuracy\"],\n",
    ")\n",
    "\n",
    "model.summary()\n",
    "\n",
    "history = model.fit(\n",
    "    master, master_labels, validation_data=(test, test_labels), batch_size=36, epochs=15\n",
    ")"
   ]
  },
  {
   "cell_type": "code",
   "execution_count": 7,
   "metadata": {},
   "outputs": [
    {
     "name": "stdout",
     "output_type": "stream",
     "text": [
      "813/813 - 9s - loss: 11.8410 - accuracy: 0.0288 - 9s/epoch - 11ms/step\n"
     ]
    },
    {
     "data": {
      "image/png": "[encoded data removed]",
      "text/plain": [
       "<Figure size 640x480 with 1 Axes>"
      ]
     },
     "metadata": {},
     "output_type": "display_data"
    }
   ],
   "source": [
    "plt.plot(history.history['accuracy'], label='accuracy')\n",
    "plt.plot(history.history['val_accuracy'], label = 'val_accuracy')\n",
    "plt.xlabel('Epoch')\n",
    "plt.ylabel('Accuracy')\n",
    "plt.ylim([0, 1])\n",
    "plt.legend(loc='lower right')\n",
    "\n",
    "test_loss, test_acc = model.evaluate(test,  test_labels, verbose=2)"
   ]
  },
  {
   "cell_type": "code",
   "execution_count": 13,
   "metadata": {},
   "outputs": [
    {
     "name": "stdout",
     "output_type": "stream",
     "text": [
      "Epoch 1/7\n",
      "1625/1625 [==============================] - 133s 81ms/step - loss: 2.1203 - accuracy: 0.2531 - val_loss: 8.3012 - val_accuracy: 0.0493\n",
      "Epoch 2/7\n",
      "1625/1625 [==============================] - 131s 80ms/step - loss: 1.1787 - accuracy: 0.4164 - val_loss: 11.6462 - val_accuracy: 0.0433\n",
      "Epoch 3/7\n",
      "1625/1625 [==============================] - 128s 79ms/step - loss: 0.9487 - accuracy: 0.4532 - val_loss: 12.3574 - val_accuracy: 0.0142\n",
      "Epoch 4/7\n",
      "1625/1625 [==============================] - 120s 74ms/step - loss: 0.8635 - accuracy: 0.4655 - val_loss: 13.8298 - val_accuracy: 0.0368\n",
      "Epoch 5/7\n",
      "1625/1625 [==============================] - 129s 79ms/step - loss: 0.8225 - accuracy: 0.4734 - val_loss: 13.4201 - val_accuracy: 0.0494\n",
      "Epoch 6/7\n",
      "1625/1625 [==============================] - 129s 79ms/step - loss: 0.7992 - accuracy: 0.4773 - val_loss: 14.3731 - val_accuracy: 0.0673\n",
      "Epoch 7/7\n",
      "1625/1625 [==============================] - 130s 80ms/step - loss: 0.7896 - accuracy: 0.4823 - val_loss: 14.7678 - val_accuracy: 0.0543\n"
     ]
    }
   ],
   "source": [
    "model = models.Sequential()\n",
    "model.add(layers.Conv2D(32, (3, 3), activation='relu', input_shape=(64, 64, 1)))\n",
    "model.add(layers.MaxPooling2D((2, 2)))\n",
    "model.add(layers.Dropout(0.2))\n",
    "model.add(layers.Conv2D(64, (3, 3), activation='relu'))\n",
    "model.add(layers.MaxPooling2D((2, 2)))\n",
    "model.add(layers.Dropout(0.2))\n",
    "model.add(layers.Conv2D(64, (3, 3), activation='relu'))\n",
    "model.add(layers.MaxPooling2D((2, 2)))\n",
    "model.add(layers.Dropout(0.2))\n",
    "\n",
    "model.add(layers.Flatten())\n",
    "model.add(layers.Dense(128, activation='relu'))\n",
    "model.add(layers.Dense(27))\n",
    "\n",
    "#model.summary()\n",
    "\n",
    "model.compile(optimizer='adam',\n",
    "              loss=tf.keras.losses.SparseCategoricalCrossentropy(from_logits=True),\n",
    "              metrics=['accuracy'])\n",
    "\n",
    "history = model.fit(master, master_labels, epochs=7, \n",
    "                    validation_data=(test, test_labels))"
   ]
  },
  {
   "cell_type": "code",
   "execution_count": 7,
   "metadata": {},
   "outputs": [],
   "source": [
    "model.save('model_64_all.h5')"
   ]
  },
  {
   "cell_type": "code",
   "execution_count": 8,
   "metadata": {},
   "outputs": [
    {
     "data": {
      "text/plain": [
       "<matplotlib.legend.Legend at 0x203a175c700>"
      ]
     },
     "execution_count": 8,
     "metadata": {},
     "output_type": "execute_result"
    },
    {
     "data": {
      "image/png": "[encoded data removed]",
      "text/plain": [
       "<Figure size 640x480 with 1 Axes>"
      ]
     },
     "metadata": {},
     "output_type": "display_data"
    }
   ],
   "source": [
    "plt.plot(history.history['accuracy'], label='accuracy')\n",
    "plt.plot(history.history['val_accuracy'], label = 'val_accuracy')\n",
    "plt.xlabel('Epoch')\n",
    "plt.ylabel('Accuracy')\n",
    "plt.ylim([0.0, 1])\n",
    "plt.legend(loc='lower right')"
   ]
  },
  {
   "cell_type": "code",
   "execution_count": 6,
   "metadata": {},
   "outputs": [],
   "source": [
    "## Convert Image Size and save them\n",
    "\n",
    "def convert_image_size_64(letter, start, end, step):\n",
    "    path = \"./ASL_Alphabet/asl_alphabet_train/asl_alphabet_train/\"\n",
    "    new_path = \"./ASL_CSV_64/train/\"\n",
    "\n",
    "    for num in range(start, end, step):\n",
    "        image = Image.open(path+letter+'/'+letter+str(num)+'.jpg')\n",
    "        new_image = image.resize((64,64))\n",
    "        new_image.save(new_path+letter+'/'+letter+str(num)+'.jpg')\n",
    "        \n",
    "    return 0\n",
    "\n",
    "\n",
    "for letter in \"ABCDEFGHIJKLMNOPQRSTUVWXYZ\":\n",
    "    convert_image_size_64(letter, 1, 3001, 1)"
   ]
  }
 ],
 "metadata": {
  "kernelspec": {
   "display_name": "Python 3.6.8 64-bit",
   "language": "python",
   "name": "python3"
  },
  "language_info": {
   "codemirror_mode": {
    "name": "ipython",
    "version": 3
   },
   "file_extension": ".py",
   "mimetype": "text/x-python",
   "name": "python",
   "nbconvert_exporter": "python",
   "pygments_lexer": "ipython3",
   "version": "3.8.5"
  },
  "orig_nbformat": 4,
  "vscode": {
   "interpreter": {
    "hash": "ae9660db38ac8643b5abe3ade23e36bb7e77026bbf1f37e511afc8ce3b66621b"
   }
  }
 },
 "nbformat": 4,
 "nbformat_minor": 2
}
