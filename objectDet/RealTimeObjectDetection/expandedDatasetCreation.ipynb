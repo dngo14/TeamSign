{
 "cells": [
  {
   "cell_type": "code",
   "execution_count": 4,
   "id": "dd008d67",
   "metadata": {},
   "outputs": [],
   "source": [
    "import cv2\n",
    "import os\n",
    "import time\n",
    "import uuid"
   ]
  },
  {
   "cell_type": "code",
   "execution_count": 3,
   "id": "3b2c3b8b",
   "metadata": {},
   "outputs": [],
   "source": [
    "IMG_PATH = 'Tensorflow/workspace/images/collectedimages2'"
   ]
  },
  {
   "cell_type": "code",
   "execution_count": 2,
   "id": "0c9a56b0",
   "metadata": {},
   "outputs": [],
   "source": [
    "labels = ['hello', 'thankyou', 'yes', 'no', 'iloveyou', 'a', 'b', 'c', 'd', 'e', 'f', 'g', 'h', 'i','j','k','l', 'm', 'n', 'o', 'p', 'q', 'r', 's', 't', 'u', 'v', 'w', 'x', 'y', 'z']"
   ]
  },
  {
   "cell_type": "code",
   "execution_count": 5,
   "id": "2af1b934",
   "metadata": {},
   "outputs": [],
   "source": [
    "#labels = ['hello', 'thankyou', 'yes', 'no', 'iloveyou']\n",
    "number_imgs = 15"
   ]
  },
  {
   "cell_type": "code",
   "execution_count": 6,
   "id": "92e8221a",
   "metadata": {},
   "outputs": [
    {
     "name": "stderr",
     "output_type": "stream",
     "text": [
      "A subdirectory or file Tensorflow\\workspace\\images\\collectedimages2\\hello already exists.\n"
     ]
    },
    {
     "name": "stdout",
     "output_type": "stream",
     "text": [
      "Collecting images for hello\n"
     ]
    },
    {
     "name": "stderr",
     "output_type": "stream",
     "text": [
      "A subdirectory or file Tensorflow\\workspace\\images\\collectedimages2\\thankyou already exists.\n"
     ]
    },
    {
     "name": "stdout",
     "output_type": "stream",
     "text": [
      "Collecting images for thankyou\n",
      "Collecting images for yes\n",
      "Collecting images for no\n",
      "Collecting images for iloveyou\n",
      "Collecting images for a\n",
      "Collecting images for b\n",
      "Collecting images for c\n",
      "Collecting images for d\n",
      "Collecting images for e\n",
      "Collecting images for f\n",
      "Collecting images for g\n",
      "Collecting images for h\n",
      "Collecting images for i\n",
      "Collecting images for j\n",
      "Collecting images for k\n",
      "Collecting images for l\n",
      "Collecting images for m\n",
      "Collecting images for n\n",
      "Collecting images for o\n",
      "Collecting images for p\n",
      "Collecting images for q\n",
      "Collecting images for r\n",
      "Collecting images for s\n",
      "Collecting images for t\n",
      "Collecting images for u\n",
      "Collecting images for v\n",
      "Collecting images for w\n",
      "Collecting images for x\n",
      "Collecting images for y\n",
      "Collecting images for z\n"
     ]
    },
    {
     "ename": "",
     "evalue": "",
     "output_type": "error",
     "traceback": [
      "\u001b[1;31mThe Kernel crashed while executing code in the the current cell or a previous cell. Please review the code in the cell(s) to identify a possible cause of the failure. Click <a href='https://aka.ms/vscodeJupyterKernelCrash'>here</a> for more info. View Jupyter <a href='command:jupyter.viewOutput'>log</a> for further details."
     ]
    }
   ],
   "source": [
    "for label in labels:\n",
    "    !mkdir {'Tensorflow\\workspace\\images\\collectedimages2\\\\'+label}\n",
    "    cap = cv2.VideoCapture(0)\n",
    "    print(f'Collecting images for {label}')\n",
    "    time.sleep(5)\n",
    "    for img_num in range(number_imgs):\n",
    "        _, frame = cap.read()\n",
    "        image_name = os.path.join(IMG_PATH, label, label+'.'+'{}.jpg'.format(str(uuid.uuid1())))\n",
    "        cv2.imwrite(image_name, frame)\n",
    "        cv2.imshow('frame', frame)\n",
    "        time.sleep(2)\n",
    "        \n",
    "        if cv2.waitKey(1) & 0xFF == ord('q'):\n",
    "            break"
   ]
  },
  {
   "cell_type": "code",
   "execution_count": null,
   "id": "53700840",
   "metadata": {},
   "outputs": [],
   "source": []
  }
 ],
 "metadata": {
  "kernelspec": {
   "display_name": "base",
   "language": "python",
   "name": "python3"
  },
  "language_info": {
   "codemirror_mode": {
    "name": "ipython",
    "version": 3
   },
   "file_extension": ".py",
   "mimetype": "text/x-python",
   "name": "python",
   "nbconvert_exporter": "python",
   "pygments_lexer": "ipython3",
   "version": "3.9.12"
  },
  "vscode": {
   "interpreter": {
    "hash": "76e8e29aa1049378644505b89640a950731d67acc4d1cc7f6a1919409c7bb893"
   }
  }
 },
 "nbformat": 4,
 "nbformat_minor": 5
}
