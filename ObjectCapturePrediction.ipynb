{
 "cells": [
  {
   "cell_type": "code",
   "execution_count": 7,
   "metadata": {},
   "outputs": [],
   "source": [
    "import cv2\n",
    "import numpy as np\n",
    "from keras.models import load_model\n",
    "from keras.preprocessing.image import ImageDataGenerator\n",
    "import skimage\n",
    "from skimage.transform import resize\n",
    "\n",
    "data_gen = ImageDataGenerator(samplewise_center=True, samplewise_std_normalization=True)"
   ]
  },
  {
   "cell_type": "code",
   "execution_count": 17,
   "metadata": {},
   "outputs": [
    {
     "name": "stdout",
     "output_type": "stream",
     "text": [
      "['A', 'B', 'C', 'D', 'E', 'F', 'G', 'H', 'I', 'J', 'K', 'L', 'M', 'N', 'O', 'P', 'Q', 'R', 'S', 'T', 'U', 'V', 'W', 'X', 'Z', 'Space', 'Del', 'Nothing', 'UNCLEAR', 'UNCLEAR', 'UNCLEAR']\n",
      "2/2 [==============================] - 0s 93ms/step\n",
      "Nothing\n"
     ]
    }
   ],
   "source": [
    "classes_file = open(\"classes.txt\")\n",
    "classes_string = classes_file.readline()\n",
    "classes = classes_string.split()\n",
    "#classes.sort()\n",
    "\n",
    "model = load_model('CNN_model.h5')\n",
    "captured_image_path = \"./objectDet/RealTimeObjectDetection/cropped_imgs/detected_object_grey_29.jpg\"\n",
    "img_file = cv2.imread(captured_image_path)\n",
    "img_file = skimage.transform.resize(img_file, (50, 50, 50, 3))\n",
    "img_arr = np.asarray(img_file)\n",
    "\n",
    "prediction = np.array(model.predict(img_file))\n",
    "predicted_class = classes[prediction.argmax()]\n",
    "print(predicted_class)"
   ]
  }
 ],
 "metadata": {
  "kernelspec": {
   "display_name": "Python 3",
   "language": "python",
   "name": "python3"
  },
  "language_info": {
   "codemirror_mode": {
    "name": "ipython",
    "version": 3
   },
   "file_extension": ".py",
   "mimetype": "text/x-python",
   "name": "python",
   "nbconvert_exporter": "python",
   "pygments_lexer": "ipython3",
   "version": "3.7.6"
  },
  "orig_nbformat": 4
 },
 "nbformat": 4,
 "nbformat_minor": 2
}
