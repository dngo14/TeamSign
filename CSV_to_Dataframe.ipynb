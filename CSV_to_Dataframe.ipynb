{
 "cells": [
  {
   "cell_type": "code",
   "execution_count": 1,
   "metadata": {},
   "outputs": [],
   "source": [
    "#from sklearn.preprocessing import LabelBinarizer\n",
    "#from tensorflow import keras\n",
    "#from keras.utils import plot_model\n",
    "\n",
    "#import tensorflow as tf\n",
    "import numpy as np\n",
    "import pandas as pd\n",
    "import matplotlib.pyplot as plt\n",
    "from PIL import Image\n",
    "import csv\n",
    "import cv2\n",
    "import os\n",
    "from numpy import genfromtxt\n",
    "import requests\n",
    "import re\n",
    "\n",
    "import tensorflow as tf\n",
    "from tensorflow import keras\n",
    "\n",
    "from keras import datasets, layers, models\n",
    "import matplotlib.pyplot as plt\n"
   ]
  },
  {
   "cell_type": "code",
   "execution_count": 79,
   "metadata": {},
   "outputs": [
    {
     "name": "stdout",
     "output_type": "stream",
     "text": [
      "(50000, 32, 32, 3)\n",
      "<class 'numpy.ndarray'>\n",
      "(50000, 1)\n",
      "[[6]\n",
      " [9]\n",
      " [9]\n",
      " ...\n",
      " [9]\n",
      " [1]\n",
      " [1]]\n"
     ]
    }
   ],
   "source": [
    "(train_images, train_labels), (test_images, test_labels) = datasets.cifar10.load_data()\n",
    "#print(train_images[0][0])\n",
    "\n",
    "train_images, test_images = train_images / 255.0, test_images / 255.0\n",
    "print(train_images.shape)\n",
    "print(type(train_images[0]))\n",
    "print(train_labels.shape)\n",
    "print(train_labels)"
   ]
  },
  {
   "cell_type": "code",
   "execution_count": 21,
   "metadata": {},
   "outputs": [
    {
     "name": "stdout",
     "output_type": "stream",
     "text": [
      "40001\n",
      "  Labels   1   2   3   4   5   6   7   8   9  ... 39991 39992 39993 39994  \\\n",
      "0      A  33  30  31  30  29  30  29  28  28  ...    28    28    26    29   \n",
      "\n",
      "  39995 39996 39997 39998 39999 40000  \n",
      "0    29    29    29    29    30    28  \n",
      "\n",
      "[1 rows x 40001 columns]\n"
     ]
    }
   ],
   "source": [
    "#letters = \"ABCDEFGHIJKLMNOPQRSTUVWXYZ\"\n",
    "#path = \"./ASL_CSV/train/\"\n",
    "#df = pd.read_csv(\"ASL_CSV/train/A/A1.csv\", sep = ',')\n",
    "\n",
    "letter = \"A\"\n",
    "num = 2\n",
    "df = pd.read_csv('./ASL_CSV/train/'+ letter + '/' + letter + str(num) + '.csv', sep=',', header=None)\n",
    "\n",
    "array = df.to_numpy()\n",
    "result = array.flatten()\n",
    "string = \"\"\n",
    "for x in result:\n",
    "    replaced = re.sub(\"[^0-9 ]+\", \"\", x)\n",
    "    replaced = re.sub(' +', ' ', replaced).strip()\n",
    "    string += (\" \" + replaced)\n",
    "\n",
    "string = string.split(\" \")\n",
    "\n",
    "string[0] = \"A\"\n",
    "df2 = pd.DataFrame(columns=np.arange(40001))\n",
    "df2.rename(columns={0:\"Labels\"}, inplace = True)\n",
    "df2.loc[len(df2)] = string\n",
    "\n",
    "print(df2.shape[1])\n",
    "print(df2)\n",
    "\n",
    "\n",
    "    \n",
    "\n",
    "\n"
   ]
  },
  {
   "cell_type": "code",
   "execution_count": 60,
   "metadata": {},
   "outputs": [],
   "source": [
    "def CSV_To_Dataframe(letter, start, end):\n",
    "    path = \"./ASL_CSV/train/\"\n",
    "    data = []\n",
    "    for num in range(start, end):\n",
    "        df = pd.read_csv(path+letter+'/'+letter+str(num)+'.csv',sep=',',header= None)\n",
    "        array = df.to_numpy()\n",
    "        result = array.flatten()\n",
    "        \n",
    "        string = \"\"\n",
    "        arr = []\n",
    "        for x in result:\n",
    "            replaced = re.sub(\"[^0-9 ]+\", \"\", x)\n",
    "            replaced = re.sub(' +', ' ', replaced).strip()\n",
    "            replaced = replaced.split(\" \")\n",
    "            replaced = [(eval(i)/255) for i in replaced]\n",
    "            #print(replaced)\n",
    "            #string += (\" \" + replaced)\n",
    "            arr.append(replaced)\n",
    "        \n",
    "        data.append(arr)\n",
    "        #string = string.split(\" \")\n",
    "        #string.pop(0)\n",
    "        #string = [(eval(i)/255) for i in string]\n",
    "        #print(string)\n",
    "        #data.append(string)\n",
    "    np_data = np.array(data)\n",
    "    #print(np_data.shape)\n",
    "    return np_data\n",
    "#print(len(CSV_To_Dataframe(\"A\")))\n",
    "#print(CSV_To_Dataframe(\"A\"))\n"
   ]
  },
  {
   "cell_type": "code",
   "execution_count": 91,
   "metadata": {},
   "outputs": [],
   "source": [
    "def create_data(letters, start, end):\n",
    "    data = np.concatenate([CSV_To_Dataframe(x, start, end) for x in letters])\n",
    "    return data\n",
    "\n",
    "#create_data(\"AB\", 100)\n",
    "        \n",
    "\n"
   ]
  },
  {
   "cell_type": "code",
   "execution_count": 92,
   "metadata": {},
   "outputs": [],
   "source": [
    "#master_df = pd.DataFrame(columns = np.arange(100))\n",
    "#master_df.rename(columns = {0:\"Labels\"}, inplace = True)\n",
    "#count = 0\n",
    "\"\"\" def Fill_Dataframe():\n",
    "    letters = \"A\" #BCDEFGHIJKLMNOPQRSTUVWXYZ\"\n",
    "    for letter in letters:\n",
    "        list = CSV_To_Dataframe(letter)\n",
    "        master_df.loc[len(master_df)] = list\n",
    "        #count+=1\n",
    "        #print(count)\n",
    "    \n",
    "Fill_Dataframe() \"\"\"\n",
    "#print(master_df)\n",
    "\n",
    "\n",
    "master_df = create_data(\"ABC\", 1, 101)\n",
    "test_df = create_data(\"ABC\", 101, 201)\n"
   ]
  },
  {
   "cell_type": "code",
   "execution_count": 8,
   "metadata": {},
   "outputs": [],
   "source": [
    "\"\"\" test_df = pd.DataFrame(columns = np.arange(100))\n",
    "#master_df.rename(columns = {0:\"Labels\"}, inplace = True)\n",
    "count = 0\n",
    "def Fill_Dataframe():\n",
    "    letters = \"A\" #BCDEFGHIJKLMNOPQRSTUVWXYZ\"\n",
    "    for letter in letters:\n",
    "        list = CSV_To_Dataframe(letter)\n",
    "        test_df.loc[len(master_df)] = list\n",
    "        #count+=1\n",
    "        #print(count)\n",
    "    \n",
    "Fill_Dataframe() \"\"\"\n",
    "#print(master_df)"
   ]
  },
  {
   "cell_type": "code",
   "execution_count": 93,
   "metadata": {},
   "outputs": [
    {
     "name": "stdout",
     "output_type": "stream",
     "text": [
      "(300, 200, 200)\n",
      "(300, 200, 200)\n",
      "[[[0.11764706 0.11372549 0.12156863 ... 0.11372549 0.1254902  0.10980392]\n",
      "  [0.11372549 0.10980392 0.1254902  ... 0.12156863 0.10196078 0.13333333]\n",
      "  [0.10588235 0.12156863 0.18431373 ... 0.72941176 0.69803922 0.10196078]\n",
      "  ...\n",
      "  [0.1254902  0.09803922 0.55686275 ... 0.5372549  0.54509804 0.10588235]\n",
      "  [0.11372549 0.12156863 0.54117647 ... 0.54901961 0.51372549 0.1254902 ]\n",
      "  [0.11372549 0.11764706 0.10980392 ... 0.11372549 0.1254902  0.10588235]]\n",
      "\n",
      " [[0.12941176 0.11764706 0.12156863 ... 0.11372549 0.11764706 0.11372549]\n",
      "  [0.12156863 0.10980392 0.1254902  ... 0.10980392 0.11372549 0.12941176]\n",
      "  [0.11764706 0.1254902  0.18431373 ... 0.74509804 0.68627451 0.09803922]\n",
      "  ...\n",
      "  [0.1254902  0.09411765 0.55294118 ... 0.54117647 0.5372549  0.11372549]\n",
      "  [0.10980392 0.11372549 0.54117647 ... 0.54509804 0.52156863 0.12156863]\n",
      "  [0.11764706 0.11372549 0.11372549 ... 0.11372549 0.11764706 0.10980392]]\n",
      "\n",
      " [[0.12156863 0.11764706 0.11372549 ... 0.11372549 0.11764706 0.11372549]\n",
      "  [0.11372549 0.10588235 0.12156863 ... 0.10980392 0.10980392 0.1254902 ]\n",
      "  [0.11764706 0.12156863 0.19607843 ... 0.72941176 0.68627451 0.10588235]\n",
      "  ...\n",
      "  [0.12156863 0.10588235 0.54901961 ... 0.53333333 0.54509804 0.10196078]\n",
      "  [0.11372549 0.10980392 0.54901961 ... 0.52941176 0.51764706 0.12156863]\n",
      "  [0.11372549 0.12156863 0.10588235 ... 0.12156863 0.11372549 0.11372549]]\n",
      "\n",
      " ...\n",
      "\n",
      " [[0.1254902  0.12156863 0.11764706 ... 0.11372549 0.11764706 0.11372549]\n",
      "  [0.12156863 0.11372549 0.1254902  ... 0.10980392 0.12156863 0.11372549]\n",
      "  [0.11372549 0.1254902  0.18039216 ... 0.68627451 0.66666667 0.09803922]\n",
      "  ...\n",
      "  [0.1254902  0.09803922 0.54509804 ... 0.5254902  0.5372549  0.10196078]\n",
      "  [0.11372549 0.11764706 0.52941176 ... 0.53333333 0.50588235 0.12156863]\n",
      "  [0.11372549 0.12156863 0.10980392 ... 0.10980392 0.12156863 0.10588235]]\n",
      "\n",
      " [[0.13333333 0.1254902  0.11372549 ... 0.11764706 0.10980392 0.1254902 ]\n",
      "  [0.12156863 0.11372549 0.11764706 ... 0.11764706 0.11372549 0.10980392]\n",
      "  [0.11764706 0.1254902  0.18823529 ... 0.66666667 0.66666667 0.11764706]\n",
      "  ...\n",
      "  [0.1254902  0.09803922 0.54117647 ... 0.51764706 0.52156863 0.11764706]\n",
      "  [0.10980392 0.11764706 0.53333333 ... 0.52156863 0.51764706 0.10980392]\n",
      "  [0.11764706 0.12156863 0.11372549 ... 0.12156863 0.10980392 0.11764706]]\n",
      "\n",
      " [[0.12941176 0.12156863 0.11372549 ... 0.11372549 0.1254902  0.11372549]\n",
      "  [0.10980392 0.10588235 0.1254902  ... 0.12156863 0.10980392 0.10980392]\n",
      "  [0.11764706 0.1254902  0.18039216 ... 0.6745098  0.67058824 0.11372549]\n",
      "  ...\n",
      "  [0.12941176 0.09411765 0.54509804 ... 0.5254902  0.53333333 0.10196078]\n",
      "  [0.10980392 0.11372549 0.53333333 ... 0.5254902  0.51372549 0.11764706]\n",
      "  [0.11372549 0.11372549 0.10980392 ... 0.11372549 0.11764706 0.10980392]]]\n"
     ]
    }
   ],
   "source": [
    "print(master_df.shape)\n",
    "print(test_df.shape)\n",
    "print(master_df)"
   ]
  },
  {
   "cell_type": "code",
   "execution_count": 95,
   "metadata": {},
   "outputs": [],
   "source": [
    "data_a = master_df\n",
    "labels = [[1]]*100 + [[2]]*100 + [[3]]*100\n",
    "labels = np.array(labels)\n",
    "#labels = np.reshape(labels, (200,1))\n",
    "#print(type(labels))\n",
    "#print(labels)"
   ]
  },
  {
   "cell_type": "code",
   "execution_count": 96,
   "metadata": {},
   "outputs": [
    {
     "name": "stdout",
     "output_type": "stream",
     "text": [
      "Epoch 1/10\n",
      "10/10 [==============================] - 6s 552ms/step - loss: 1.1547 - accuracy: 0.4900 - val_loss: 0.7631 - val_accuracy: 0.7333\n",
      "Epoch 2/10\n",
      "10/10 [==============================] - 5s 511ms/step - loss: 0.3626 - accuracy: 0.9300 - val_loss: 0.8917 - val_accuracy: 0.8033\n",
      "Epoch 3/10\n",
      "10/10 [==============================] - 5s 512ms/step - loss: 0.0709 - accuracy: 0.9967 - val_loss: 0.9275 - val_accuracy: 0.8600\n",
      "Epoch 4/10\n",
      "10/10 [==============================] - 6s 568ms/step - loss: 0.0083 - accuracy: 1.0000 - val_loss: 1.3202 - val_accuracy: 0.8333\n",
      "Epoch 5/10\n",
      "10/10 [==============================] - 6s 560ms/step - loss: 0.0018 - accuracy: 1.0000 - val_loss: 1.3701 - val_accuracy: 0.8367\n",
      "Epoch 6/10\n",
      "10/10 [==============================] - 6s 638ms/step - loss: 6.7711e-04 - accuracy: 1.0000 - val_loss: 1.5013 - val_accuracy: 0.8433\n",
      "Epoch 7/10\n",
      "10/10 [==============================] - 6s 637ms/step - loss: 4.1806e-04 - accuracy: 1.0000 - val_loss: 1.4785 - val_accuracy: 0.8433\n",
      "Epoch 8/10\n",
      "10/10 [==============================] - 6s 592ms/step - loss: 2.6878e-04 - accuracy: 1.0000 - val_loss: 1.4187 - val_accuracy: 0.8467\n",
      "Epoch 9/10\n",
      "10/10 [==============================] - 5s 552ms/step - loss: 2.1703e-04 - accuracy: 1.0000 - val_loss: 1.4355 - val_accuracy: 0.8500\n",
      "Epoch 10/10\n",
      "10/10 [==============================] - 6s 564ms/step - loss: 1.7805e-04 - accuracy: 1.0000 - val_loss: 1.4587 - val_accuracy: 0.8533\n"
     ]
    }
   ],
   "source": [
    "\n",
    "\n",
    "\n",
    "model = models.Sequential()\n",
    "model.add(layers.Conv2D(32, (1, 1), activation='relu', input_shape=(200, 200, 1)))\n",
    "model.add(layers.MaxPooling2D((2, 2)))\n",
    "model.add(layers.Conv2D(64, (1, 1), activation='relu'))\n",
    "model.add(layers.MaxPooling2D((2, 2)))\n",
    "model.add(layers.Conv2D(64, (1, 1), activation='relu'))\n",
    "\n",
    "model.add(layers.Flatten())\n",
    "model.add(layers.Dense(64, activation='relu'))\n",
    "model.add(layers.Dense(10))\n",
    "\n",
    "#model.summary()\n",
    "\n",
    "model.compile(optimizer='adam',\n",
    "              loss=tf.keras.losses.SparseCategoricalCrossentropy(from_logits=True),\n",
    "              metrics=['accuracy'])\n",
    "\n",
    "history = model.fit(master_df, labels, epochs=10, \n",
    "                    validation_data=(test_df, labels))"
   ]
  },
  {
   "cell_type": "code",
   "execution_count": 97,
   "metadata": {},
   "outputs": [
    {
     "name": "stdout",
     "output_type": "stream",
     "text": [
      "10/10 - 1s - loss: 1.4587 - accuracy: 0.8533 - 1s/epoch - 110ms/step\n"
     ]
    },
    {
     "data": {
      "image/png": "[encoded data removed]",
      "text/plain": [
       "<Figure size 640x480 with 1 Axes>"
      ]
     },
     "metadata": {},
     "output_type": "display_data"
    }
   ],
   "source": [
    "plt.plot(history.history['accuracy'], label='accuracy')\n",
    "plt.plot(history.history['val_accuracy'], label = 'val_accuracy')\n",
    "plt.xlabel('Epoch')\n",
    "plt.ylabel('Accuracy')\n",
    "plt.ylim([0.5, 1])\n",
    "plt.legend(loc='lower right')\n",
    "\n",
    "test_loss, test_acc = model.evaluate(test_df,  labels, verbose=2)"
   ]
  },
  {
   "cell_type": "code",
   "execution_count": 98,
   "metadata": {},
   "outputs": [
    {
     "name": "stdout",
     "output_type": "stream",
     "text": [
      "0.8533333539962769\n",
      "1.4586859941482544\n"
     ]
    }
   ],
   "source": [
    "print(test_acc)\n",
    "print(test_loss)\n"
   ]
  }
 ],
 "metadata": {
  "kernelspec": {
   "display_name": "Python 3",
   "language": "python",
   "name": "python3"
  },
  "language_info": {
   "codemirror_mode": {
    "name": "ipython",
    "version": 3
   },
   "file_extension": ".py",
   "mimetype": "text/x-python",
   "name": "python",
   "nbconvert_exporter": "python",
   "pygments_lexer": "ipython3",
   "version": "3.8.5"
  },
  "orig_nbformat": 4,
  "vscode": {
   "interpreter": {
    "hash": "9650cb4e16cdd4a8e8e2d128bf38d875813998db22a3c986335f89e0cb4d7bb2"
   }
  }
 },
 "nbformat": 4,
 "nbformat_minor": 2
}
