{
 "cells": [
  {
   "cell_type": "code",
   "execution_count": 3,
   "metadata": {},
   "outputs": [],
   "source": [
    "from sklearn.preprocessing import LabelBinarizer\n",
    "from tensorflow import keras\n",
    "#from keras.utils import plot_model\n",
    "\n",
    "import tensorflow as tf\n",
    "import numpy as np\n",
    "import pandas as pd\n",
    "import matplotlib.pyplot as plt\n",
    "from PIL import Image\n",
    "import csv\n",
    "import cv2\n",
    "import os\n",
    "from numpy import genfromtxt\n",
    "import requests\n",
    "import re\n"
   ]
  },
  {
   "cell_type": "code",
   "execution_count": 5,
   "metadata": {},
   "outputs": [
    {
     "name": "stdout",
     "output_type": "stream",
     "text": [
      "39802\n",
      "39802\n",
      "  Labels   1   2   3   4   5   6   7   8   9  ... 39792 39793 39794 39795  \\\n",
      "0      A  33  30  31  30  29  30  29  28  28  ...    28    28    26    29   \n",
      "\n",
      "  39796 39797 39798 39799 39800 39801  \n",
      "0    29    29    29    29    30    28  \n",
      "\n",
      "[1 rows x 39802 columns]\n"
     ]
    }
   ],
   "source": [
    "#letters = \"ABCDEFGHIJKLMNOPQRSTUVWXYZ\"\n",
    "#path = \"./ASL_CSV/train/\"\n",
    "#df = pd.read_csv(\"ASL_CSV/train/A/A1.csv\", sep = ',')\n",
    "\n",
    "letter = \"A\"\n",
    "num = 2\n",
    "df = pd.read_csv('./ASL_CSV/train/'+ letter + '/' + letter + str(num) + '.csv', sep=',', header=None)\n",
    "\n",
    "array = df.to_numpy()\n",
    "result = array.flatten()\n",
    "string = \"\"\n",
    "for x in result:\n",
    "    replaced = re.sub(\"[^0-9 ]+\", \"\", x)\n",
    "    replaced = re.sub(' +', ' ', replaced).strip()\n",
    "    string += replaced\n",
    "string = string.split(\" \")\n",
    "string.insert(0, \"A\")\n",
    "df2 = pd.DataFrame(columns=np.arange(39802))\n",
    "df2.rename(columns={0:\"Labels\"}, inplace = True)\n",
    "df2.loc[len(df2)] = string\n",
    "print(len(string)) #Bruh why is this list only 39802 = should be 20X20\n",
    "print(df2.shape[1])\n",
    "print(df2)\n",
    "\n",
    "\n",
    "    \n",
    "\n",
    "\n"
   ]
  }
 ],
 "metadata": {
  "kernelspec": {
   "display_name": "Python 3.6.8 64-bit",
   "language": "python",
   "name": "python3"
  },
  "language_info": {
   "codemirror_mode": {
    "name": "ipython",
    "version": 3
   },
   "file_extension": ".py",
   "mimetype": "text/x-python",
   "name": "python",
   "nbconvert_exporter": "python",
   "pygments_lexer": "ipython3",
   "version": "3.6.8"
  },
  "orig_nbformat": 4,
  "vscode": {
   "interpreter": {
    "hash": "ae9660db38ac8643b5abe3ade23e36bb7e77026bbf1f37e511afc8ce3b66621b"
   }
  }
 },
 "nbformat": 4,
 "nbformat_minor": 2
}
