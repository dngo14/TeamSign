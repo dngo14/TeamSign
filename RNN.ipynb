{
 "cells": [
  {
   "cell_type": "code",
   "execution_count": 1,
   "metadata": {},
   "outputs": [],
   "source": [
    "import numpy as np\n",
    "import pandas as pd\n",
    "import matplotlib.pyplot as plt\n",
    "from PIL import Image\n",
    "import csv\n",
    "import cv2\n",
    "import os\n",
    "from numpy import genfromtxt\n",
    "import requests\n",
    "import re\n",
    "import tensorflow as tf\n",
    "from tensorflow import keras\n",
    "from keras import datasets, layers, models\n",
    "import matplotlib.pyplot as plt"
   ]
  },
  {
   "cell_type": "code",
   "execution_count": 2,
   "metadata": {},
   "outputs": [],
   "source": [
    "def CSV_To_Dataframe(letter, start, end):\n",
    "    path = \"./ASL_CSV/train/\"\n",
    "    data = []\n",
    "    for num in range(start, end):\n",
    "        df = pd.read_csv(path+letter+'/'+letter+str(num)+'.csv',sep=',',header= None)\n",
    "        array = df.to_numpy()\n",
    "        result = array.flatten()\n",
    "        \n",
    "        arr = []\n",
    "        for x in result:\n",
    "            replaced = re.sub(\"[^0-9 ]+\", \"\", x)\n",
    "            replaced = re.sub(' +', ' ', replaced).strip()\n",
    "            replaced = replaced.split(\" \")\n",
    "            replaced = [(eval(i)/255) for i in replaced]\n",
    "            arr.append(replaced)\n",
    "        \n",
    "        data.append(arr)\n",
    "    np_data = np.array(data)\n",
    "    return np_data"
   ]
  },
  {
   "cell_type": "code",
   "execution_count": 3,
   "metadata": {},
   "outputs": [],
   "source": [
    "letter_to_num = {\n",
    "    'a' : 1,\n",
    "    'b' : 2,\n",
    "    'c' : 3,\n",
    "    'd' : 4,\n",
    "    'e' : 5,\n",
    "    'f' : 6,\n",
    "    'g' : 7,\n",
    "    'h' : 8,\n",
    "    'i' : 9,\n",
    "    'j' : 10,\n",
    "    'k' : 11,\n",
    "    'l' : 12,\n",
    "    'm' : 13,\n",
    "    'n' : 14,\n",
    "    'o' : 15,\n",
    "    'p' : 16,\n",
    "    'q' : 17,\n",
    "    'r' : 18,\n",
    "    's' : 19,\n",
    "    't' : 20,\n",
    "    'u' : 21,\n",
    "    'v' : 22,\n",
    "    'w' : 23,\n",
    "    'x' : 24,\n",
    "    'y' : 25,\n",
    "    'z' : 26,\n",
    "}"
   ]
  },
  {
   "cell_type": "code",
   "execution_count": 4,
   "metadata": {},
   "outputs": [],
   "source": [
    "def create_data(letters, start, end):\n",
    "    data = np.concatenate([CSV_To_Dataframe(x, start, end) for x in letters])\n",
    "    labels = []\n",
    "    for letter in letters:\n",
    "        labels = labels + ([[letter_to_num[letter]]]*(end-start))\n",
    "    labels = np.array(labels)\n",
    "    return data, labels\n",
    "\n",
    "master_df, labels = create_data(\"abcdefghijklmnopqrstuvwxyz\", 1, 201)\n",
    "test_df, labels = create_data(\"abcdefghijklmnopqrstuvwxyz\", 201, 251)"
   ]
  },
  {
   "cell_type": "code",
   "execution_count": 227,
   "metadata": {},
   "outputs": [
    {
     "name": "stdout",
     "output_type": "stream",
     "text": [
      "(5200, 200, 200)\n",
      "(1300,)\n",
      "(5200,)\n",
      "[ 1  1  1 ... 26 26 26]\n"
     ]
    }
   ],
   "source": [
    "print(master_df.shape)\n",
    "master_labels = []\n",
    "test_labels = []\n",
    "for i in range(1,27):\n",
    "    for j in range(50):\n",
    "        test_labels.append(i)\n",
    "test_labels = np.array(test_labels)\n",
    "#test_labels = keras.utils.to_categorical(test_labels, num_classes=27)\n",
    "\n",
    "print(test_labels.shape)\n",
    "for i in range(1,27):\n",
    "    for j in range(200):\n",
    "        master_labels.append(i)\n",
    "master_labels = np.array(master_labels)\n",
    "#master_labels = keras.utils.to_categorical(master_labels, num_classes=27)\n",
    "print(master_labels.shape)\n",
    "print(test_labels)\n",
    "\n",
    "#test_labels = keras.utils.to_categorical(test_labels, 26)\n",
    "#master_labels = keras.utils.to_categorical(master_labels, 26)\n",
    "\n",
    "        "
   ]
  },
  {
   "cell_type": "code",
   "execution_count": 257,
   "metadata": {},
   "outputs": [
    {
     "name": "stdout",
     "output_type": "stream",
     "text": [
      "Model: \"sequential_195\"\n",
      "_________________________________________________________________\n",
      "Layer (type)                 Output Shape              Param #   \n",
      "=================================================================\n",
      "lstm_160 (LSTM)              (None, 100)               120400    \n",
      "_________________________________________________________________\n",
      "batch_normalization_58 (Batc (None, 100)               400       \n",
      "_________________________________________________________________\n",
      "flatten_43 (Flatten)         (None, 100)               0         \n",
      "_________________________________________________________________\n",
      "dense_338 (Dense)            (None, 124)               12524     \n",
      "_________________________________________________________________\n",
      "dense_339 (Dense)            (None, 64)                8000      \n",
      "_________________________________________________________________\n",
      "dense_340 (Dense)            (None, 27)                1755      \n",
      "=================================================================\n",
      "Total params: 143,079\n",
      "Trainable params: 142,879\n",
      "Non-trainable params: 200\n",
      "_________________________________________________________________\n",
      "Epoch 1/6\n",
      "145/145 [==============================] - 22s 142ms/step - loss: 1.6657 - accuracy: 0.4556 - val_loss: 2.5846 - val_accuracy: 0.1300\n",
      "Epoch 2/6\n",
      "145/145 [==============================] - 22s 152ms/step - loss: 1.0922 - accuracy: 0.6029 - val_loss: 2.2508 - val_accuracy: 0.2015\n",
      "Epoch 3/6\n",
      "145/145 [==============================] - 22s 151ms/step - loss: 0.8786 - accuracy: 0.6719 - val_loss: 2.0124 - val_accuracy: 0.3346\n",
      "Epoch 4/6\n",
      "145/145 [==============================] - 23s 155ms/step - loss: 0.6538 - accuracy: 0.7656 - val_loss: 2.7171 - val_accuracy: 0.3423\n",
      "Epoch 5/6\n",
      "145/145 [==============================] - 22s 154ms/step - loss: 0.5543 - accuracy: 0.8012 - val_loss: 2.7323 - val_accuracy: 0.4108\n",
      "Epoch 6/6\n",
      "145/145 [==============================] - 23s 159ms/step - loss: 0.4009 - accuracy: 0.8552 - val_loss: 3.0707 - val_accuracy: 0.4162\n"
     ]
    }
   ],
   "source": [
    "\n",
    "model = keras.models.Sequential()\n",
    "model.add(keras.layers.LSTM(100, input_shape=(200,200)))\n",
    "model.add(keras.layers.BatchNormalization())\n",
    "model.add(keras.layers.Flatten())\n",
    "# model.add(keras.layers.Dense(64, activation = 'relu'))\n",
    "# model.add(keras.layers.Dense(32, activation = 'sigmoid'))\n",
    "model.add(keras.layers.Dense(124))\n",
    "model.add(keras.layers.Dense(64))\n",
    "model.add(keras.layers.Dense(27, activation = 'softmax'))\n",
    "\n",
    "\n",
    "model.compile(\n",
    "    loss=keras.losses.SparseCategoricalCrossentropy(from_logits=False),\n",
    "    optimizer=\"adam\",\n",
    "    metrics=[\"accuracy\"],\n",
    ")\n",
    "\n",
    "model.summary()\n",
    "\n",
    "history = model.fit(\n",
    "    master_df, master_labels, validation_data=(test_df, test_labels), batch_size=36, epochs=6\n",
    ")"
   ]
  },
  {
   "cell_type": "code",
   "execution_count": 258,
   "metadata": {},
   "outputs": [
    {
     "name": "stdout",
     "output_type": "stream",
     "text": [
      "41/41 - 2s - loss: 3.0707 - accuracy: 0.4162\n"
     ]
    },
    {
     "data": {
      "image/png": "[encoded data removed]",
      "text/plain": [
       "<Figure size 432x288 with 1 Axes>"
      ]
     },
     "metadata": {
      "needs_background": "light"
     },
     "output_type": "display_data"
    }
   ],
   "source": [
    "plt.plot(history.history['accuracy'], label='accuracy')\n",
    "# plt.plot(history.history['val_accuracy'], label = 'val_accuracy')\n",
    "plt.xlabel('Epoch')\n",
    "plt.ylabel('Accuracy')\n",
    "plt.ylim([0.5, 1])\n",
    "plt.legend(loc='lower right')\n",
    "\n",
    "test_loss, test_acc = model.evaluate(test_df,  test_labels, verbose=2)"
   ]
  }
 ],
 "metadata": {
  "kernelspec": {
   "display_name": "Python 3.6.8 64-bit",
   "language": "python",
   "name": "python3"
  },
  "language_info": {
   "codemirror_mode": {
    "name": "ipython",
    "version": 3
   },
   "file_extension": ".py",
   "mimetype": "text/x-python",
   "name": "python",
   "nbconvert_exporter": "python",
   "pygments_lexer": "ipython3",
   "version": "3.6.8"
  },
  "orig_nbformat": 4,
  "vscode": {
   "interpreter": {
    "hash": "ae9660db38ac8643b5abe3ade23e36bb7e77026bbf1f37e511afc8ce3b66621b"
   }
  }
 },
 "nbformat": 4,
 "nbformat_minor": 2
}
