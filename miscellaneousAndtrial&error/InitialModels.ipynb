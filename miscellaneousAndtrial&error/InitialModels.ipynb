{
 "cells": [
  {
   "cell_type": "code",
   "execution_count": 1,
   "metadata": {},
   "outputs": [],
   "source": [
    "import numpy as np\n",
    "import pandas as pd\n",
    "import matplotlib.pyplot as plt\n",
    "from PIL import Image\n",
    "import csv\n",
    "import cv2\n",
    "import os\n",
    "from numpy import genfromtxt\n",
    "import requests\n",
    "import re\n",
    "import tensorflow as tf\n",
    "from tensorflow import keras \n",
    "from keras import datasets, layers, models\n",
    "import matplotlib.pyplot as plt\n",
    "import sklearn\n",
    "from sklearn import model_selection\n",
    "from sklearn.model_selection import train_test_split, learning_curve,KFold,cross_val_score,StratifiedKFold\n",
    "from sklearn.utils import class_weight\n",
    "from sklearn.metrics import confusion_matrix"
   ]
  },
  {
   "cell_type": "code",
   "execution_count": 9,
   "metadata": {},
   "outputs": [],
   "source": [
    "def CSV_To_Dataframe(letter, start, end, step):\n",
    "    path = \"./ASL_64/train/\"\n",
    "    data = []\n",
    "    for num in range(start, end, step):\n",
    "        df = pd.read_csv(path+letter+'/'+letter+str(num)+'.csv',sep=',',header= None)\n",
    "        array = df.to_numpy()\n",
    "        result = array.flatten()\n",
    "        \n",
    "        arr = []\n",
    "        for x in result:\n",
    "            replaced = re.sub(\"[^0-9 ]+\", \"\", x)\n",
    "            replaced = re.sub(' +', ' ', replaced).strip()\n",
    "            replaced = replaced.split(\" \")\n",
    "            replaced = [(eval(i)/255) for i in replaced]\n",
    "            arr.append(replaced)\n",
    "        \n",
    "        data.append(arr)\n",
    "    np_data = np.array(data)\n",
    "    return np_data"
   ]
  },
  {
   "cell_type": "code",
   "execution_count": 2,
   "metadata": {},
   "outputs": [],
   "source": [
    "letter_to_num = {\n",
    "    'a' : 1,\n",
    "    'b' : 2,\n",
    "    'c' : 3,\n",
    "    'd' : 4,\n",
    "    'e' : 5,\n",
    "    'f' : 6,\n",
    "    'g' : 7,\n",
    "    'h' : 8,\n",
    "    'i' : 9,\n",
    "    'j' : 10,\n",
    "    'k' : 11,\n",
    "    'l' : 12,\n",
    "    'm' : 13,\n",
    "    'n' : 14,\n",
    "    'o' : 15,\n",
    "    'p' : 16,\n",
    "    'q' : 17,\n",
    "    'r' : 18,\n",
    "    's' : 19,\n",
    "    't' : 20,\n",
    "    'u' : 21,\n",
    "    'v' : 22,\n",
    "    'w' : 23,\n",
    "    'x' : 24,\n",
    "    'y' : 25,\n",
    "    'z' : 26,\n",
    "}"
   ]
  },
  {
   "cell_type": "code",
   "execution_count": 10,
   "metadata": {},
   "outputs": [
    {
     "ename": "MemoryError",
     "evalue": "Unable to allocate 916. MiB for an array with shape (3000, 200, 200) and data type float64",
     "output_type": "error",
     "traceback": [
      "\u001b[1;31m---------------------------------------------------------------------------\u001b[0m",
      "\u001b[1;31mMemoryError\u001b[0m                               Traceback (most recent call last)",
      "\u001b[1;32m<ipython-input-10-cdfbb451ed06>\u001b[0m in \u001b[0;36m<module>\u001b[1;34m\u001b[0m\n\u001b[0;32m      7\u001b[0m     \u001b[1;32mreturn\u001b[0m \u001b[0mdata\u001b[0m\u001b[1;33m,\u001b[0m \u001b[0mlabels\u001b[0m\u001b[1;33m\u001b[0m\u001b[1;33m\u001b[0m\u001b[0m\n\u001b[0;32m      8\u001b[0m \u001b[1;33m\u001b[0m\u001b[0m\n\u001b[1;32m----> 9\u001b[1;33m \u001b[0mmaster_df\u001b[0m\u001b[1;33m,\u001b[0m \u001b[0mmaster_labels\u001b[0m \u001b[1;33m=\u001b[0m \u001b[0mcreate_data\u001b[0m\u001b[1;33m(\u001b[0m\u001b[1;34m\"abcdefghijklmnopqrstuvwxyz\"\u001b[0m\u001b[1;33m,\u001b[0m \u001b[1;36m1\u001b[0m\u001b[1;33m,\u001b[0m \u001b[1;36m3001\u001b[0m\u001b[1;33m)\u001b[0m\u001b[1;33m\u001b[0m\u001b[1;33m\u001b[0m\u001b[0m\n\u001b[0m\u001b[0;32m     10\u001b[0m \u001b[1;31m#test_df, test_labels = create_data(\"abcdefghijklmnopqrstuvwxyz\", 501, 751)\u001b[0m\u001b[1;33m\u001b[0m\u001b[1;33m\u001b[0m\u001b[1;33m\u001b[0m\u001b[0m\n",
      "\u001b[1;32m<ipython-input-10-cdfbb451ed06>\u001b[0m in \u001b[0;36mcreate_data\u001b[1;34m(letters, start, end)\u001b[0m\n\u001b[0;32m      1\u001b[0m \u001b[1;32mdef\u001b[0m \u001b[0mcreate_data\u001b[0m\u001b[1;33m(\u001b[0m\u001b[0mletters\u001b[0m\u001b[1;33m,\u001b[0m \u001b[0mstart\u001b[0m\u001b[1;33m,\u001b[0m \u001b[0mend\u001b[0m\u001b[1;33m)\u001b[0m\u001b[1;33m:\u001b[0m\u001b[1;33m\u001b[0m\u001b[1;33m\u001b[0m\u001b[0m\n\u001b[1;32m----> 2\u001b[1;33m     \u001b[0mdata\u001b[0m \u001b[1;33m=\u001b[0m \u001b[0mnp\u001b[0m\u001b[1;33m.\u001b[0m\u001b[0mconcatenate\u001b[0m\u001b[1;33m(\u001b[0m\u001b[1;33m[\u001b[0m\u001b[0mCSV_To_Dataframe\u001b[0m\u001b[1;33m(\u001b[0m\u001b[0mx\u001b[0m\u001b[1;33m,\u001b[0m \u001b[0mstart\u001b[0m\u001b[1;33m,\u001b[0m \u001b[0mend\u001b[0m\u001b[1;33m)\u001b[0m \u001b[1;32mfor\u001b[0m \u001b[0mx\u001b[0m \u001b[1;32min\u001b[0m \u001b[0mletters\u001b[0m\u001b[1;33m]\u001b[0m\u001b[1;33m)\u001b[0m\u001b[1;33m\u001b[0m\u001b[1;33m\u001b[0m\u001b[0m\n\u001b[0m\u001b[0;32m      3\u001b[0m     \u001b[0mlabels\u001b[0m \u001b[1;33m=\u001b[0m \u001b[1;33m[\u001b[0m\u001b[1;33m]\u001b[0m\u001b[1;33m\u001b[0m\u001b[1;33m\u001b[0m\u001b[0m\n\u001b[0;32m      4\u001b[0m     \u001b[1;32mfor\u001b[0m \u001b[0mletter\u001b[0m \u001b[1;32min\u001b[0m \u001b[0mletters\u001b[0m\u001b[1;33m:\u001b[0m\u001b[1;33m\u001b[0m\u001b[1;33m\u001b[0m\u001b[0m\n\u001b[0;32m      5\u001b[0m         \u001b[0mlabels\u001b[0m \u001b[1;33m=\u001b[0m \u001b[0mlabels\u001b[0m \u001b[1;33m+\u001b[0m \u001b[1;33m(\u001b[0m\u001b[1;33m[\u001b[0m\u001b[1;33m[\u001b[0m\u001b[0mletter_to_num\u001b[0m\u001b[1;33m[\u001b[0m\u001b[0mletter\u001b[0m\u001b[1;33m]\u001b[0m\u001b[1;33m]\u001b[0m\u001b[1;33m]\u001b[0m\u001b[1;33m*\u001b[0m\u001b[1;33m(\u001b[0m\u001b[0mend\u001b[0m\u001b[1;33m-\u001b[0m\u001b[0mstart\u001b[0m\u001b[1;33m)\u001b[0m\u001b[1;33m)\u001b[0m\u001b[1;33m\u001b[0m\u001b[1;33m\u001b[0m\u001b[0m\n",
      "\u001b[1;32m<ipython-input-10-cdfbb451ed06>\u001b[0m in \u001b[0;36m<listcomp>\u001b[1;34m(.0)\u001b[0m\n\u001b[0;32m      1\u001b[0m \u001b[1;32mdef\u001b[0m \u001b[0mcreate_data\u001b[0m\u001b[1;33m(\u001b[0m\u001b[0mletters\u001b[0m\u001b[1;33m,\u001b[0m \u001b[0mstart\u001b[0m\u001b[1;33m,\u001b[0m \u001b[0mend\u001b[0m\u001b[1;33m)\u001b[0m\u001b[1;33m:\u001b[0m\u001b[1;33m\u001b[0m\u001b[1;33m\u001b[0m\u001b[0m\n\u001b[1;32m----> 2\u001b[1;33m     \u001b[0mdata\u001b[0m \u001b[1;33m=\u001b[0m \u001b[0mnp\u001b[0m\u001b[1;33m.\u001b[0m\u001b[0mconcatenate\u001b[0m\u001b[1;33m(\u001b[0m\u001b[1;33m[\u001b[0m\u001b[0mCSV_To_Dataframe\u001b[0m\u001b[1;33m(\u001b[0m\u001b[0mx\u001b[0m\u001b[1;33m,\u001b[0m \u001b[0mstart\u001b[0m\u001b[1;33m,\u001b[0m \u001b[0mend\u001b[0m\u001b[1;33m)\u001b[0m \u001b[1;32mfor\u001b[0m \u001b[0mx\u001b[0m \u001b[1;32min\u001b[0m \u001b[0mletters\u001b[0m\u001b[1;33m]\u001b[0m\u001b[1;33m)\u001b[0m\u001b[1;33m\u001b[0m\u001b[1;33m\u001b[0m\u001b[0m\n\u001b[0m\u001b[0;32m      3\u001b[0m     \u001b[0mlabels\u001b[0m \u001b[1;33m=\u001b[0m \u001b[1;33m[\u001b[0m\u001b[1;33m]\u001b[0m\u001b[1;33m\u001b[0m\u001b[1;33m\u001b[0m\u001b[0m\n\u001b[0;32m      4\u001b[0m     \u001b[1;32mfor\u001b[0m \u001b[0mletter\u001b[0m \u001b[1;32min\u001b[0m \u001b[0mletters\u001b[0m\u001b[1;33m:\u001b[0m\u001b[1;33m\u001b[0m\u001b[1;33m\u001b[0m\u001b[0m\n\u001b[0;32m      5\u001b[0m         \u001b[0mlabels\u001b[0m \u001b[1;33m=\u001b[0m \u001b[0mlabels\u001b[0m \u001b[1;33m+\u001b[0m \u001b[1;33m(\u001b[0m\u001b[1;33m[\u001b[0m\u001b[1;33m[\u001b[0m\u001b[0mletter_to_num\u001b[0m\u001b[1;33m[\u001b[0m\u001b[0mletter\u001b[0m\u001b[1;33m]\u001b[0m\u001b[1;33m]\u001b[0m\u001b[1;33m]\u001b[0m\u001b[1;33m*\u001b[0m\u001b[1;33m(\u001b[0m\u001b[0mend\u001b[0m\u001b[1;33m-\u001b[0m\u001b[0mstart\u001b[0m\u001b[1;33m)\u001b[0m\u001b[1;33m)\u001b[0m\u001b[1;33m\u001b[0m\u001b[1;33m\u001b[0m\u001b[0m\n",
      "\u001b[1;32m<ipython-input-2-f796815606aa>\u001b[0m in \u001b[0;36mCSV_To_Dataframe\u001b[1;34m(letter, start, end)\u001b[0m\n\u001b[0;32m     16\u001b[0m \u001b[1;33m\u001b[0m\u001b[0m\n\u001b[0;32m     17\u001b[0m         \u001b[0mdata\u001b[0m\u001b[1;33m.\u001b[0m\u001b[0mappend\u001b[0m\u001b[1;33m(\u001b[0m\u001b[0marr\u001b[0m\u001b[1;33m)\u001b[0m\u001b[1;33m\u001b[0m\u001b[1;33m\u001b[0m\u001b[0m\n\u001b[1;32m---> 18\u001b[1;33m     \u001b[0mnp_data\u001b[0m \u001b[1;33m=\u001b[0m \u001b[0mnp\u001b[0m\u001b[1;33m.\u001b[0m\u001b[0marray\u001b[0m\u001b[1;33m(\u001b[0m\u001b[0mdata\u001b[0m\u001b[1;33m)\u001b[0m\u001b[1;33m\u001b[0m\u001b[1;33m\u001b[0m\u001b[0m\n\u001b[0m\u001b[0;32m     19\u001b[0m     \u001b[1;32mreturn\u001b[0m \u001b[0mnp_data\u001b[0m\u001b[1;33m\u001b[0m\u001b[1;33m\u001b[0m\u001b[0m\n",
      "\u001b[1;31mMemoryError\u001b[0m: Unable to allocate 916. MiB for an array with shape (3000, 200, 200) and data type float64"
     ]
    }
   ],
   "source": [
    "def create_data(letters, start, end):\n",
    "    data = np.concatenate([CSV_To_Dataframe(x, start, end) for x in letters])\n",
    "    labels = []\n",
    "    for letter in letters:\n",
    "        labels = labels + ([[letter_to_num[letter]]]*(end-start))\n",
    "    labels = np.array(labels)\n",
    "    return data, labels\n",
    "\n",
    "master_df, master_labels = create_data(\"abcdefghijklmnopqrstuvwxyz\", 1, 3001) \n",
    "#test_df, test_labels = create_data(\"abcdefghijklmnopqrstuvwxyz\", 501, 751)"
   ]
  },
  {
   "cell_type": "code",
   "execution_count": 38,
   "metadata": {},
   "outputs": [
    {
     "name": "stdout",
     "output_type": "stream",
     "text": [
      "(52000, 64, 64)\n",
      "(26000, 64, 64)\n",
      "(26000,)\n",
      "(52000,)\n",
      "[ 1  1  1 ... 26 26 26]\n"
     ]
    }
   ],
   "source": [
    "print(master_df.shape)\n",
    "print(test_df.shape)\n",
    "\"\"\" master_labels = []\n",
    "test_labels = []\n",
    "for i in range(1,27):\n",
    "    for j in range(100):\n",
    "        test_labels.append(i) \"\"\"\n",
    "test_labels = np.array(test_labels)\n",
    " \n",
    "print(test_labels.shape)\n",
    "\"\"\" for i in range(1,27):\n",
    "    for j in range(200):\n",
    "        master_labels.append(i)\n",
    "master_labels = np.array(master_labels) \"\"\"\n",
    "\n",
    "print(master_labels.shape)\n",
    "print(test_labels)\n"
   ]
  },
  {
   "cell_type": "code",
   "execution_count": 2,
   "metadata": {},
   "outputs": [],
   "source": [
    "master1 = np.load(\"master_numpy_1_300.npy\", allow_pickle = True)\n",
    "test1 = np.load(\"test_numpy_1_300.npy\", allow_pickle = True)\n",
    "master_labels1 = np.load(\"master_labels_numpy_1_300.npy\", allow_pickle = True)\n",
    "test_labels1 = np.load(\"test_labels_numpy_1_300.npy\", allow_pickle = True)\n",
    "\n",
    "master2 = np.load(\"master_numpy_301_601.npy\", allow_pickle = True)\n",
    "test2 = np.load(\"test_numpy_301_601.npy\", allow_pickle = True)\n",
    "master_labels2 = np.load(\"master_labels_numpy_301_601.npy\", allow_pickle = True)\n",
    "test_labels2 = np.load(\"test_labels_numpy_301_601.npy\", allow_pickle = True)\n",
    "\n",
    "master3 = np.load(\"master_numpy_601_901.npy\", allow_pickle = True)\n",
    "test3 = np.load(\"test_numpy_601_901.npy\", allow_pickle = True)\n",
    "master_labels3 = np.load(\"master_labels_numpy_601_901.npy\", allow_pickle = True)\n",
    "test_labels3 = np.load(\"test_labels_numpy_601_901.npy\", allow_pickle = True)\n",
    "\n",
    "master = np.concatenate([master1, master2, master3])\n",
    "test = np.concatenate([test1, test2, test3])\n",
    "master_labels = np.concatenate([master_labels1, master_labels2, master_labels3])\n",
    "test_labels = np.concatenate([test_labels1, test_labels2, test_labels3])"
   ]
  },
  {
   "cell_type": "code",
   "execution_count": 7,
   "metadata": {},
   "outputs": [],
   "source": [
    "np.save(\"master_numpy_1_601\", master)\n",
    "np.save(\"test_numpy_1_601\", test)\n",
    "np.save(\"master_labels_numpy_1_601\", master_label)\n",
    "np.save(\"test_labels_numpy_1_601\", test_label)"
   ]
  },
  {
   "cell_type": "code",
   "execution_count": 8,
   "metadata": {},
   "outputs": [
    {
     "name": "stdout",
     "output_type": "stream",
     "text": [
      "(5200,)\n"
     ]
    }
   ],
   "source": [
    "print(test_label.shape)"
   ]
  },
  {
   "cell_type": "code",
   "execution_count": 2,
   "metadata": {},
   "outputs": [],
   "source": [
    "master = np.load(\"master_numpy_64_1_3000.npy\", allow_pickle = True)\n",
    "test = np.load(\"test_numpy_64_1_3000.npy\", allow_pickle = True)\n",
    "master_labels = np.load(\"master_labels_numpy_64_1_3000.npy\", allow_pickle = True)\n",
    "test_labels = np.load(\"test_labels_numpy_64_1_3000.npy\", allow_pickle = True)"
   ]
  },
  {
   "cell_type": "code",
   "execution_count": 3,
   "metadata": {},
   "outputs": [
    {
     "name": "stdout",
     "output_type": "stream",
     "text": [
      "(52000, 64, 64)\n",
      "(52000,)\n",
      "(26000, 64, 64)\n",
      "(26000,)\n"
     ]
    }
   ],
   "source": [
    "print(master.shape)\n",
    "print(master_labels.shape)\n",
    "print(test.shape)\n",
    "print(test_labels.shape)"
   ]
  },
  {
   "cell_type": "code",
   "execution_count": 5,
   "metadata": {},
   "outputs": [
    {
     "name": "stdout",
     "output_type": "stream",
     "text": [
      "Model: \"sequential_1\"\n",
      "_________________________________________________________________\n",
      " Layer (type)                Output Shape              Param #   \n",
      "=================================================================\n",
      " lstm_1 (LSTM)               (None, 100)               66000     \n",
      "                                                                 \n",
      " batch_normalization_1 (Batc  (None, 100)              400       \n",
      " hNormalization)                                                 \n",
      "                                                                 \n",
      " flatten_1 (Flatten)         (None, 100)               0         \n",
      "                                                                 \n",
      " dense_3 (Dense)             (None, 124)               12524     \n",
      "                                                                 \n",
      " dense_4 (Dense)             (None, 64)                8000      \n",
      "                                                                 \n",
      " dense_5 (Dense)             (None, 27)                1755      \n",
      "                                                                 \n",
      "=================================================================\n",
      "Total params: 88,679\n",
      "Trainable params: 88,479\n",
      "Non-trainable params: 200\n",
      "_________________________________________________________________\n",
      "Epoch 1/15\n",
      "1445/1445 [==============================] - 53s 36ms/step - loss: 2.5343 - accuracy: 0.1785 - val_loss: 5.6534 - val_accuracy: 0.0321\n",
      "Epoch 2/15\n",
      "1445/1445 [==============================] - 53s 36ms/step - loss: 1.8947 - accuracy: 0.2809 - val_loss: 6.9200 - val_accuracy: 0.0301\n",
      "Epoch 3/15\n",
      "1445/1445 [==============================] - 53s 37ms/step - loss: 1.5324 - accuracy: 0.3444 - val_loss: 8.2879 - val_accuracy: 0.0229\n",
      "Epoch 4/15\n",
      "1445/1445 [==============================] - 53s 37ms/step - loss: 1.3198 - accuracy: 0.3816 - val_loss: 8.9418 - val_accuracy: 0.0503\n",
      "Epoch 5/15\n",
      "1445/1445 [==============================] - 54s 37ms/step - loss: 1.1841 - accuracy: 0.4159 - val_loss: 9.8164 - val_accuracy: 0.0523\n",
      "Epoch 6/15\n",
      "1445/1445 [==============================] - 54s 37ms/step - loss: 1.0994 - accuracy: 0.4255 - val_loss: 10.3440 - val_accuracy: 0.0323\n",
      "Epoch 7/15\n",
      "1445/1445 [==============================] - 54s 38ms/step - loss: 1.0376 - accuracy: 0.4330 - val_loss: 10.7546 - val_accuracy: 0.0068\n",
      "Epoch 8/15\n",
      "1445/1445 [==============================] - 54s 37ms/step - loss: 0.9929 - accuracy: 0.4426 - val_loss: 11.3042 - val_accuracy: 0.0573\n",
      "Epoch 9/15\n",
      "1445/1445 [==============================] - 54s 37ms/step - loss: 0.9494 - accuracy: 0.4500 - val_loss: 11.6015 - val_accuracy: 0.0325\n",
      "Epoch 10/15\n",
      "1445/1445 [==============================] - 55s 38ms/step - loss: 0.9222 - accuracy: 0.4560 - val_loss: 11.6976 - val_accuracy: 0.0130\n",
      "Epoch 11/15\n",
      "1445/1445 [==============================] - 54s 38ms/step - loss: 0.8983 - accuracy: 0.4657 - val_loss: 12.4066 - val_accuracy: 0.0467\n",
      "Epoch 12/15\n",
      "1445/1445 [==============================] - 55s 38ms/step - loss: 0.8798 - accuracy: 0.4654 - val_loss: 11.7943 - val_accuracy: 0.0179\n",
      "Epoch 13/15\n",
      "1445/1445 [==============================] - 55s 38ms/step - loss: 0.8711 - accuracy: 0.4669 - val_loss: 12.2362 - val_accuracy: 0.0242\n",
      "Epoch 14/15\n",
      "1445/1445 [==============================] - 54s 37ms/step - loss: 0.8526 - accuracy: 0.4680 - val_loss: 12.6581 - val_accuracy: 0.0641\n",
      "Epoch 15/15\n",
      "1445/1445 [==============================] - 54s 38ms/step - loss: 0.8476 - accuracy: 0.4722 - val_loss: 11.5568 - val_accuracy: 0.0331\n"
     ]
    }
   ],
   "source": [
    "model = keras.models.Sequential()\n",
    "model.add(keras.layers.LSTM(100, input_shape=(64,64)))\n",
    "model.add(keras.layers.BatchNormalization())\n",
    "model.add(keras.layers.Flatten())\n",
    "# model.add(keras.layers.Dense(64, activation = 'relu'))\n",
    "# model.add(keras.layers.Dense(32, activation = 'sigmoid'))\n",
    "model.add(keras.layers.Dense(124))\n",
    "model.add(keras.layers.Dense(64))\n",
    "model.add(keras.layers.Dense(27, activation = 'softmax'))\n",
    "\n",
    "\n",
    "model.compile(\n",
    "    loss=keras.losses.SparseCategoricalCrossentropy(from_logits=False),\n",
    "    optimizer=\"adam\",\n",
    "    metrics=[\"accuracy\"],\n",
    ")\n",
    "\n",
    "model.summary()\n",
    "\n",
    "history = model.fit(\n",
    "    master, master_labels, validation_data=(test, test_labels), batch_size=36, epochs=15\n",
    ")"
   ]
  },
  {
   "cell_type": "code",
   "execution_count": 6,
   "metadata": {},
   "outputs": [],
   "source": [
    "model.save('model_initial_64_RNN_E15.h5')"
   ]
  },
  {
   "cell_type": "code",
   "execution_count": 7,
   "metadata": {},
   "outputs": [
    {
     "name": "stdout",
     "output_type": "stream",
     "text": [
      "813/813 - 9s - loss: 11.8410 - accuracy: 0.0288 - 9s/epoch - 11ms/step\n"
     ]
    },
    {
     "data": {
      "image/png": "[encoded data removed]",
      "text/plain": [
       "<Figure size 640x480 with 1 Axes>"
      ]
     },
     "metadata": {},
     "output_type": "display_data"
    }
   ],
   "source": [
    "plt.plot(history.history['accuracy'], label='accuracy')\n",
    "plt.plot(history.history['val_accuracy'], label = 'val_accuracy')\n",
    "plt.xlabel('Epoch')\n",
    "plt.ylabel('Accuracy')\n",
    "plt.ylim([0, 1])\n",
    "plt.legend(loc='lower right')\n",
    "\n",
    "test_loss, test_acc = model.evaluate(test,  test_labels, verbose=2)"
   ]
  },
  {
   "cell_type": "code",
   "execution_count": 5,
   "metadata": {},
   "outputs": [
    {
     "name": "stdout",
     "output_type": "stream",
     "text": [
      "Epoch 1/15\n",
      "488/488 [==============================] - 411s 838ms/step - loss: 1.8822 - accuracy: 0.2937 - val_loss: 7.5869 - val_accuracy: 0.0082\n",
      "Epoch 2/15\n",
      "488/488 [==============================] - 185s 379ms/step - loss: 0.9782 - accuracy: 0.4412 - val_loss: 10.5923 - val_accuracy: 0.0288\n",
      "Epoch 3/15\n",
      "488/488 [==============================] - 186s 382ms/step - loss: 0.8102 - accuracy: 0.4674 - val_loss: 12.6438 - val_accuracy: 0.0582\n",
      "Epoch 4/15\n",
      "488/488 [==============================] - 184s 378ms/step - loss: 0.7629 - accuracy: 0.4808 - val_loss: 13.2929 - val_accuracy: 0.0655\n",
      "Epoch 5/15\n",
      "488/488 [==============================] - 184s 378ms/step - loss: 0.7528 - accuracy: 0.4847 - val_loss: 13.5129 - val_accuracy: 0.0131\n",
      "Epoch 6/15\n",
      "488/488 [==============================] - 184s 377ms/step - loss: 0.7405 - accuracy: 0.4775 - val_loss: 13.7637 - val_accuracy: 0.0038\n",
      "Epoch 7/15\n",
      "488/488 [==============================] - 185s 380ms/step - loss: 0.7343 - accuracy: 0.4903 - val_loss: 12.7535 - val_accuracy: 0.0378\n",
      "Epoch 8/15\n",
      "488/488 [==============================] - 184s 377ms/step - loss: 0.7291 - accuracy: 0.4904 - val_loss: 13.4950 - val_accuracy: 0.0385\n",
      "Epoch 9/15\n",
      "488/488 [==============================] - 182s 373ms/step - loss: 0.7260 - accuracy: 0.4865 - val_loss: 13.4042 - val_accuracy: 0.0738\n",
      "Epoch 10/15\n",
      "488/488 [==============================] - 180s 369ms/step - loss: 0.7244 - accuracy: 0.4837 - val_loss: 12.6628 - val_accuracy: 0.0605\n",
      "Epoch 11/15\n",
      "488/488 [==============================] - 180s 370ms/step - loss: 0.7299 - accuracy: 0.4885 - val_loss: 13.0103 - val_accuracy: 0.0659\n",
      "Epoch 12/15\n",
      "488/488 [==============================] - 183s 376ms/step - loss: 0.7217 - accuracy: 0.4871 - val_loss: 13.8002 - val_accuracy: 0.0340\n",
      "Epoch 13/15\n",
      "488/488 [==============================] - 183s 376ms/step - loss: 0.7217 - accuracy: 0.4878 - val_loss: 12.9769 - val_accuracy: 0.0015\n",
      "Epoch 14/15\n",
      "488/488 [==============================] - 182s 373ms/step - loss: 0.7190 - accuracy: 0.4825 - val_loss: 12.7293 - val_accuracy: 0.0409\n",
      "Epoch 15/15\n",
      "488/488 [==============================] - 184s 377ms/step - loss: 0.7231 - accuracy: 0.4863 - val_loss: 12.7130 - val_accuracy: 0.0594\n"
     ]
    }
   ],
   "source": [
    "model = models.Sequential()\n",
    "model.add(layers.Conv2D(16, (2, 2), activation='relu', input_shape=(200, 200, 1)))\n",
    "model.add(layers.MaxPooling2D((2, 2)))\n",
    "#model.add(layers.Dropout(0.2))\n",
    "model.add(layers.Conv2D(32, (3, 3), activation='relu'))\n",
    "model.add(layers.MaxPooling2D((3, 3)))\n",
    "#model.add(layers.Dropout(0.2))\n",
    "model.add(layers.Conv2D(64, (5, 5), activation='relu'))\n",
    "model.add(layers.MaxPooling2D((1, 1)))\n",
    "#model.add(layers.Dropout(0.2))\n",
    "\n",
    "model.add(layers.Flatten())\n",
    "model.add(layers.Dense(128, activation='relu'))\n",
    "model.add(layers.Dropout(0.2))\n",
    "model.add(layers.Dense(27))\n",
    "\n",
    "#model.summary()\n",
    "\n",
    "model.compile(optimizer='adam',\n",
    "              loss=tf.keras.losses.SparseCategoricalCrossentropy(from_logits=True),\n",
    "              metrics=['accuracy'])\n",
    "\n",
    "history = model.fit(master, master_labels, epochs=15, \n",
    "                    validation_data=(test, test_labels))"
   ]
  },
  {
   "cell_type": "code",
   "execution_count": 6,
   "metadata": {},
   "outputs": [],
   "source": [
    "model.save('model_initial_200_CNN_E15.h5')"
   ]
  },
  {
   "cell_type": "code",
   "execution_count": 9,
   "metadata": {},
   "outputs": [],
   "source": [
    "from keras.callbacks import Callback, EarlyStopping, ReduceLROnPlateau, ModelCheckpoint\n",
    "\n",
    "class MetricsCheckpoint(Callback):\n",
    "    \"\"\"Callback that saves metrics after each epoch\"\"\"\n",
    "    def __init__(self, savepath):\n",
    "        super(MetricsCheckpoint, self).__init__()\n",
    "        self.savepath = savepath\n",
    "        self.history = {}\n",
    "    def on_epoch_end(self, epoch, logs=None):\n",
    "        for k, v in logs.items():\n",
    "            self.history.setdefault(k, []).append(v)\n",
    "        np.save(self.savepath, self.history)\n",
    "\n",
    "def plotKerasLearningCurve():\n",
    "    plt.figure(figsize=(10,5))\n",
    "    metrics = np.load('logs.npy', allow_pickle=True)[()]\n",
    "    filt = ['accuracy'] # try to add 'loss' to see the loss learning curve\n",
    "    for k in filter(lambda x : np.any([kk in x for kk in filt]), metrics.keys()):\n",
    "        l = np.array(metrics[k])\n",
    "        plt.plot(l, c= 'r' if 'val' not in k else 'b', label='val' if 'val' in k else 'train')\n",
    "        x = np.argmin(l) if 'loss' in k else np.argmax(l)\n",
    "        y = l[x]\n",
    "        plt.scatter(x,y, lw=0, alpha=0.25, s=100, c='r' if 'val' not in k else 'b')\n",
    "        plt.text(x, y, '{} = {:.4f}'.format(x,y), size='15', color= 'r' if 'val' not in k else 'b')   \n",
    "    plt.legend(loc=4)\n",
    "    plt.axis([0, None, None, None])\n",
    "    plt.grid()\n",
    "    plt.xlabel('Number of epochs')\n",
    "    plt.ylabel('Accuracy')\n",
    "\n",
    "def plot_confusion_matrix(cm, classes,\n",
    "                          normalize=False,\n",
    "                          title='Confusion matrix',\n",
    "                          cmap=plt.cm.Blues):\n",
    "    \"\"\"\n",
    "    This function prints and plots the confusion matrix.\n",
    "    Normalization can be applied by setting `normalize=True`.\n",
    "    \"\"\"\n",
    "    plt.figure(figsize = (8,8))\n",
    "    plt.imshow(cm, interpolation='nearest', cmap=cmap)\n",
    "    plt.title(title)\n",
    "    plt.colorbar()\n",
    "    tick_marks = np.arange(len(classes))\n",
    "    plt.xticks(tick_marks, classes, rotation=90)\n",
    "    plt.yticks(tick_marks, classes)\n",
    "    if normalize:\n",
    "        cm = cm.astype('float') / cm.sum(axis=1)[:, np.newaxis]\n",
    "\n",
    "    thresh = cm.max() / 2.\n",
    "    for i, j in itertools.product(range(cm.shape[0]), range(cm.shape[1])):\n",
    "        plt.text(j, i, cm[i, j],\n",
    "                 horizontalalignment=\"center\",\n",
    "                 color=\"white\" if cm[i, j] > thresh else \"black\")\n",
    "    plt.tight_layout()\n",
    "    plt.ylabel('True label')\n",
    "    plt.xlabel('Predicted label')\n",
    "\n",
    "def plot_learning_curve(history):\n",
    "    plt.figure(figsize=(8,8))\n",
    "    plt.subplot(1,2,1)\n",
    "    plt.plot(history.history['accuracy'])\n",
    "    plt.plot(history.history['val_accuracy'])\n",
    "    plt.title('model accuracy')\n",
    "    plt.ylabel('accuracy')\n",
    "    plt.xlabel('epoch')\n",
    "    plt.legend(['train', 'test'], loc='upper left')\n",
    "    plt.savefig('./accuracy_curve.png')\n",
    "    plt.subplot(1,2,2)\n",
    "    plt.plot(history.history['loss'])\n",
    "    plt.plot(history.history['val_loss'])\n",
    "    plt.title('model loss')\n",
    "    plt.ylabel('loss')\n",
    "    plt.xlabel('epoch')\n",
    "    plt.legend(['train', 'test'], loc='upper left')\n",
    "    plt.savefig('./loss_curve.png')"
   ]
  },
  {
   "cell_type": "code",
   "execution_count": 17,
   "metadata": {},
   "outputs": [
    {
     "name": "stdout",
     "output_type": "stream",
     "text": [
      "244/244 [==============================] - 20s 81ms/step\n"
     ]
    }
   ],
   "source": [
    "map_characters = {0: 'A', 1: 'B', 2: 'C', 3: 'D', 4: 'E', 5: 'F', 6: 'G', 7: 'H', 8: 'I', 9: 'J', 10: 'K', 11: 'L', 12: 'M', 13: 'N', 14: 'O', 15: 'P', 16: 'Q', 17: 'R', 18: 'S', 19: 'T', 20: 'U', 21: 'V', 22: 'W', 23: 'X', 24: 'Y', 25: 'Z', 26: 'del', 27: 'nothing', 28: 'space'}\n",
    "# Evaluate model\n",
    "#score = model.evaluate(test,test_labels, verbose=0)\n",
    "#print('\\nKeras CNN - accuracy:', score[1], '\\n')\n",
    "y_pred = model.predict(test)"
   ]
  },
  {
   "cell_type": "code",
   "execution_count": 31,
   "metadata": {},
   "outputs": [
    {
     "name": "stdout",
     "output_type": "stream",
     "text": [
      "[[-15.832945   10.067348   -4.7013693 ... -11.878807  -14.127191\n",
      "  -16.747812 ]\n",
      " [-15.049987    9.285311   -3.5502627 ... -10.712573  -13.273638\n",
      "  -16.258772 ]\n",
      " [-12.711755    7.9374113  -1.621275  ...  -8.84432   -11.892398\n",
      "  -14.004453 ]\n",
      " ...\n",
      " [-15.233004   -6.4209056  -7.4289784 ...  -5.742517   -3.0013268\n",
      "    9.853455 ]\n",
      " [-15.034156   -6.7297506  -7.2587247 ...  -5.17316    -1.9252778\n",
      "    9.440396 ]\n",
      " [-14.531211   -6.566097   -6.4678984 ...  -4.583704   -2.127612\n",
      "    9.145778 ]]\n",
      "[ 1  1  1 ... 26 26 26]\n",
      "(array([   0,    1,    2, ..., 7797, 7798, 7799], dtype=int64),)\n"
     ]
    },
    {
     "ename": "ValueError",
     "evalue": "Number of classes, 7800, does not match size of target_names, 29. Try specifying the labels parameter",
     "output_type": "error",
     "traceback": [
      "\u001b[1;31m---------------------------------------------------------------------------\u001b[0m",
      "\u001b[1;31mValueError\u001b[0m                                Traceback (most recent call last)",
      "\u001b[1;32md:\\capstone\\project\\Numpy_Save.ipynb Cell 17\u001b[0m in \u001b[0;36m4\n\u001b[0;32m      <a href='vscode-notebook-cell:/d%3A/capstone/project/Numpy_Save.ipynb#X22sZmlsZQ%3D%3D?line=1'>2</a>\u001b[0m \u001b[39mprint\u001b[39m(test_labels)\n\u001b[0;32m      <a href='vscode-notebook-cell:/d%3A/capstone/project/Numpy_Save.ipynb#X22sZmlsZQ%3D%3D?line=2'>3</a>\u001b[0m \u001b[39mprint\u001b[39m(np\u001b[39m.\u001b[39mwhere(test_labels \u001b[39m>\u001b[39m \u001b[39m0\u001b[39m))\n\u001b[1;32m----> <a href='vscode-notebook-cell:/d%3A/capstone/project/Numpy_Save.ipynb#X22sZmlsZQ%3D%3D?line=3'>4</a>\u001b[0m \u001b[39mprint\u001b[39m(\u001b[39m'\u001b[39m\u001b[39m\\n\u001b[39;00m\u001b[39m'\u001b[39m, sklearn\u001b[39m.\u001b[39;49mmetrics\u001b[39m.\u001b[39;49mclassification_report(np\u001b[39m.\u001b[39;49mwhere(test_labels \u001b[39m>\u001b[39;49m \u001b[39m0\u001b[39;49m)[\u001b[39m0\u001b[39;49m], np\u001b[39m.\u001b[39;49margmax(y_pred, axis\u001b[39m=\u001b[39;49m\u001b[39m1\u001b[39;49m), target_names\u001b[39m=\u001b[39;49m\u001b[39mlist\u001b[39;49m(map_characters\u001b[39m.\u001b[39;49mvalues())), sep\u001b[39m=\u001b[39m\u001b[39m'\u001b[39m\u001b[39m'\u001b[39m) \n\u001b[0;32m      <a href='vscode-notebook-cell:/d%3A/capstone/project/Numpy_Save.ipynb#X22sZmlsZQ%3D%3D?line=4'>5</a>\u001b[0m Y_pred_classes \u001b[39m=\u001b[39m np\u001b[39m.\u001b[39margmax(y_pred,axis \u001b[39m=\u001b[39m \u001b[39m1\u001b[39m) \n\u001b[0;32m      <a href='vscode-notebook-cell:/d%3A/capstone/project/Numpy_Save.ipynb#X22sZmlsZQ%3D%3D?line=5'>6</a>\u001b[0m Y_true \u001b[39m=\u001b[39m np\u001b[39m.\u001b[39margmax(test_labels,axis \u001b[39m=\u001b[39m \u001b[39m1\u001b[39m) \n",
      "File \u001b[1;32mc:\\Python38\\lib\\site-packages\\sklearn\\metrics\\_classification.py:2332\u001b[0m, in \u001b[0;36mclassification_report\u001b[1;34m(y_true, y_pred, labels, target_names, sample_weight, digits, output_dict, zero_division)\u001b[0m\n\u001b[0;32m   2326\u001b[0m         warnings\u001b[39m.\u001b[39mwarn(\n\u001b[0;32m   2327\u001b[0m             \u001b[39m\"\u001b[39m\u001b[39mlabels size, \u001b[39m\u001b[39m{0}\u001b[39;00m\u001b[39m, does not match size of target_names, \u001b[39m\u001b[39m{1}\u001b[39;00m\u001b[39m\"\u001b[39m\u001b[39m.\u001b[39mformat(\n\u001b[0;32m   2328\u001b[0m                 \u001b[39mlen\u001b[39m(labels), \u001b[39mlen\u001b[39m(target_names)\n\u001b[0;32m   2329\u001b[0m             )\n\u001b[0;32m   2330\u001b[0m         )\n\u001b[0;32m   2331\u001b[0m     \u001b[39melse\u001b[39;00m:\n\u001b[1;32m-> 2332\u001b[0m         \u001b[39mraise\u001b[39;00m \u001b[39mValueError\u001b[39;00m(\n\u001b[0;32m   2333\u001b[0m             \u001b[39m\"\u001b[39m\u001b[39mNumber of classes, \u001b[39m\u001b[39m{0}\u001b[39;00m\u001b[39m, does not match size of \u001b[39m\u001b[39m\"\u001b[39m\n\u001b[0;32m   2334\u001b[0m             \u001b[39m\"\u001b[39m\u001b[39mtarget_names, \u001b[39m\u001b[39m{1}\u001b[39;00m\u001b[39m. Try specifying the labels \u001b[39m\u001b[39m\"\u001b[39m\n\u001b[0;32m   2335\u001b[0m             \u001b[39m\"\u001b[39m\u001b[39mparameter\u001b[39m\u001b[39m\"\u001b[39m\u001b[39m.\u001b[39mformat(\u001b[39mlen\u001b[39m(labels), \u001b[39mlen\u001b[39m(target_names))\n\u001b[0;32m   2336\u001b[0m         )\n\u001b[0;32m   2337\u001b[0m \u001b[39mif\u001b[39;00m target_names \u001b[39mis\u001b[39;00m \u001b[39mNone\u001b[39;00m:\n\u001b[0;32m   2338\u001b[0m     target_names \u001b[39m=\u001b[39m [\u001b[39m\"\u001b[39m\u001b[39m%s\u001b[39;00m\u001b[39m\"\u001b[39m \u001b[39m%\u001b[39m l \u001b[39mfor\u001b[39;00m l \u001b[39min\u001b[39;00m labels]\n",
      "\u001b[1;31mValueError\u001b[0m: Number of classes, 7800, does not match size of target_names, 29. Try specifying the labels parameter"
     ]
    }
   ],
   "source": [
    "\n",
    "print(y_pred)\n",
    "print(test_labels)\n",
    "print(np.where(test_labels > 0))\n",
    "print('\\n', sklearn.metrics.classification_report(np.where(test_labels > 0)[0], np.argmax(y_pred, axis=1), target_names=list(map_characters.values())), sep='') \n",
    "Y_pred_classes = np.argmax(y_pred,axis = 1) \n",
    "Y_true = np.argmax(test_labels,axis = 1) \n",
    "confusion_mtx = confusion_matrix(Y_true, Y_pred_classes) \n",
    "plotKerasLearningCurve()\n",
    "plt.show()\n",
    "plot_learning_curve(history)\n",
    "plt.show()\n",
    "plot_confusion_matrix(confusion_mtx, classes = list(map_characters.values()))\n",
    "plt.show()"
   ]
  },
  {
   "cell_type": "code",
   "execution_count": 6,
   "metadata": {},
   "outputs": [],
   "source": [
    "## Convert Image Size and save them\n",
    "\n",
    "def convert_image_size_64(letter, start, end, step):\n",
    "    path = \"./ASL_Alphabet/asl_alphabet_train/asl_alphabet_train/\"\n",
    "    new_path = \"./ASL_CSV_64/train/\"\n",
    "\n",
    "    for num in range(start, end, step):\n",
    "        image = Image.open(path+letter+'/'+letter+str(num)+'.jpg')\n",
    "        new_image = image.resize((64,64))\n",
    "        new_image.save(new_path+letter+'/'+letter+str(num)+'.jpg')\n",
    "        \n",
    "    return 0\n",
    "\n",
    "\n",
    "for letter in \"ABCDEFGHIJKLMNOPQRSTUVWXYZ\":\n",
    "    convert_image_size_64(letter, 1, 3001, 1)"
   ]
  }
 ],
 "metadata": {
  "kernelspec": {
   "display_name": "Python 3.6.8 64-bit",
   "language": "python",
   "name": "python3"
  },
  "language_info": {
   "codemirror_mode": {
    "name": "ipython",
    "version": 3
   },
   "file_extension": ".py",
   "mimetype": "text/x-python",
   "name": "python",
   "nbconvert_exporter": "python",
   "pygments_lexer": "ipython3",
   "version": "3.8.5"
  },
  "orig_nbformat": 4,
  "vscode": {
   "interpreter": {
    "hash": "ae9660db38ac8643b5abe3ade23e36bb7e77026bbf1f37e511afc8ce3b66621b"
   }
  }
 },
 "nbformat": 4,
 "nbformat_minor": 2
}
