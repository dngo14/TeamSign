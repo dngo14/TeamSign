{
 "cells": [
  {
   "cell_type": "code",
   "execution_count": 52,
   "id": "967d23f8",
   "metadata": {},
   "outputs": [],
   "source": [
    "from sklearn.preprocessing import LabelBinarizer\n",
    "from tensorflow import keras\n",
    "#from keras.utils import plot_model\n",
    "\n",
    "import tensorflow as tf\n",
    "import numpy as np\n",
    "import pandas as pd\n",
    "import matplotlib.pyplot as plt\n",
    "from PIL import Image\n",
    "import csv\n",
    "import cv2\n",
    "import os\n",
    "from numpy import genfromtxt\n",
    "import requests\n",
    "import re\n"
   ]
  },
  {
   "cell_type": "code",
   "execution_count": 92,
   "id": "ae0515ad",
   "metadata": {},
   "outputs": [],
   "source": [
    "letters = \"ABCDEFGHIJKLMN\"\n",
    "for letter in letters:\n",
    "    ORIGIN_PATH = \"./ASL_Alphabet/asl_alphabet_train/asl_alphabet_train/\"+letter+\"/\"\n",
    "    DESTIN_PATH = \"./ASL_Alphabet/ASL_\"+letter+\"/\"\n",
    "\n",
    "    for filename in os.listdir(ORIGIN_PATH):                                                                                                                                                                \n",
    "        img = Image.open(ORIGIN_PATH + filename).convert(\"L\") \n",
    "        imgarray = np.array(img)\n",
    "        csv_file = csv.writer(open(DESTIN_PATH + filename[:-4] + \".csv\", \"w\"))\n",
    "        for row in imgarray:\n",
    "            csv_file.writerow([row])\n",
    "           \n",
    "                                                                                                                                           \n",
    "\n",
    "\n"
   ]
  },
  {
   "cell_type": "code",
   "execution_count": 65,
   "id": "16183a29",
   "metadata": {},
   "outputs": [],
   "source": [
    "letters = \"ABCDEFGHIJKLMN\"\n",
    "for letter in letters:\n",
    "    for i in range(1,3001):\n",
    "        df = pd.read_csv('./ASL_Alphabet/ASL_B/B1.csv', header=None, delimiter=\",\")\n",
    "        array = df.to_numpy()\n",
    "        array.flatten()\n",
    "        result = array.flatten()\n",
    "        matrix = []\n",
    "\n",
    "        for x in result:\n",
    "            replaced = re.sub(\"[^0-9 ]+\", \"\", x)\n",
    "            replaced = re.sub(' +', ' ', replaced).strip()\n",
    "            num_list = replaced.split(\" \")\n",
    "            num_list = [eval(i) for i in num_list]\n",
    "            matrix.append(num_list)\n",
    "            \n",
    "        matrix = np.array(matrix)\n",
    "\n",
    "        data = Image.fromarray(matrix)\n",
    "        data.show()\n",
    "\n",
    "        data = data.convert('RGB')\n",
    "\n",
    "        data.save('./test' + letter + str(i) + '.png')\n",
    "\n"
   ]
  }
 ],
 "metadata": {
  "kernelspec": {
   "display_name": "Python 3.6.8 64-bit",
   "language": "python",
   "name": "python3"
  },
  "language_info": {
   "codemirror_mode": {
    "name": "ipython",
    "version": 3
   },
   "file_extension": ".py",
   "mimetype": "text/x-python",
   "name": "python",
   "nbconvert_exporter": "python",
   "pygments_lexer": "ipython3",
   "version": "3.6.8"
  },
  "vscode": {
   "interpreter": {
    "hash": "ae9660db38ac8643b5abe3ade23e36bb7e77026bbf1f37e511afc8ce3b66621b"
   }
  }
 },
 "nbformat": 4,
 "nbformat_minor": 5
}
