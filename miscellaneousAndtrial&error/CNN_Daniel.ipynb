{
 "cells": [
  {
   "cell_type": "code",
   "execution_count": 2,
   "metadata": {},
   "outputs": [
    {
     "name": "stderr",
     "output_type": "stream",
     "text": [
      "c:\\Users\\User\\AppData\\Local\\Programs\\Python\\Python36\\lib\\importlib\\_bootstrap.py:219: RuntimeWarning: numpy.ufunc size changed, may indicate binary incompatibility. Expected 192 from C header, got 216 from PyObject\n",
      "  return f(*args, **kwds)\n",
      "c:\\Users\\User\\AppData\\Local\\Programs\\Python\\Python36\\lib\\importlib\\_bootstrap.py:219: RuntimeWarning: numpy.ufunc size changed, may indicate binary incompatibility. Expected 192 from C header, got 216 from PyObject\n",
      "  return f(*args, **kwds)\n"
     ]
    }
   ],
   "source": [
    "from sklearn.preprocessing import LabelBinarizer\n",
    "from tensorflow import keras\n",
    "#from keras.utils import plot_model\n",
    "\n",
    "import tensorflow as tf\n",
    "import numpy as np\n",
    "import pandas as pd\n",
    "import matplotlib.pyplot as plt\n",
    "from PIL import Image\n",
    "import csv\n",
    "import cv2\n",
    "import os\n",
    "from numpy import genfromtxt\n",
    "import requests\n",
    "import re\n"
   ]
  },
  {
   "cell_type": "code",
   "execution_count": 54,
   "metadata": {},
   "outputs": [],
   "source": [
    "letters = \"ABCDEFGHIJKLMNOPQRSTUVWXYZ\"\n",
    "path = \"./ASL_CSV/train/\"\n",
    "#dir_paths = os.listdir('../ASL_CSV/train/')\n",
    "df = pd.read_csv(\"ASL_CSV/train/A/A1.csv\", sep = ',')\n",
    "\n",
    "# for letter in letters:\n",
    "#     path += letter\n",
    "#     dir_paths = os.listdir(path)\n",
    "letter = \"A\"\n",
    "num = 1\n",
    "df = pd.read_csv('./ASL_CSV/train/'+ letter + '/' + letter + str(num) + '.csv', sep=',', header=None)\n",
    "\n",
    "array = df.to_numpy()\n",
    "result = array.flatten()\n",
    "matrix = []\n",
    "replaced = \"\"\n",
    "for x in result:\n",
    "    replaced = re.sub(\"[^0-9 ]+\", \"\", x)\n",
    "    replaced = re.sub(' +', ' ', replaced).strip()\n",
    "    # num_list = replaced.split(\" \")\n",
    "    # num_list = [eval(i) for i in num_list]\n",
    "    # matrix.append(num_list)\n",
    "replaced.split()\n",
    "#print(replaced)\n",
    "\n",
    "\n",
    "df2 = pd.DataFrame(columns=np.arange(40001))\n",
    "df2.rename(columns={0:\"Labels\"}, inplace = True)\n",
    "Counter = 1\n",
    "for num in replaced:\n",
    "    if num is not '[' and num is not ']':\n",
    "            print(num)\n",
    "            df[Counter] = num\n",
    "            Counter += 1\n",
    "\n",
    "\n",
    "    \n",
    "\n",
    "\n"
   ]
  }
 ],
 "metadata": {
  "kernelspec": {
   "display_name": "Python 3.6.8 64-bit",
   "language": "python",
   "name": "python3"
  },
  "language_info": {
   "codemirror_mode": {
    "name": "ipython",
    "version": 3
   },
   "file_extension": ".py",
   "mimetype": "text/x-python",
   "name": "python",
   "nbconvert_exporter": "python",
   "pygments_lexer": "ipython3",
   "version": "3.6.8"
  },
  "orig_nbformat": 4,
  "vscode": {
   "interpreter": {
    "hash": "ae9660db38ac8643b5abe3ade23e36bb7e77026bbf1f37e511afc8ce3b66621b"
   }
  }
 },
 "nbformat": 4,
 "nbformat_minor": 2
}
